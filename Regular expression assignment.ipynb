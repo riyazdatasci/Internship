{
 "cells": [
  {
   "cell_type": "code",
   "execution_count": 7,
   "id": "29ff6fe6",
   "metadata": {},
   "outputs": [
    {
     "name": "stdout",
     "output_type": "stream",
     "text": [
      "mysql:language:easy::but:not:easy:python:\n"
     ]
    }
   ],
   "source": [
    "## 1\n",
    "import re\n",
    "text ='mysql language easy, but not easy python.'\n",
    "x = re.sub(\"[ ,.]\",\":\",text)\n",
    "print(x)"
   ]
  },
  {
   "cell_type": "code",
   "execution_count": 59,
   "id": "d8e2b47b",
   "metadata": {},
   "outputs": [
    {
     "name": "stdout",
     "output_type": "stream",
     "text": [
      "['ame', 'az', 'ahmed', 'and', 'am', 'eating', 'apple', 'ee', 'elephant', 'and', 'ant']\n"
     ]
    }
   ],
   "source": [
    "## 2 \n",
    "import re\n",
    "\n",
    "text = 'my name is riyaz ahmed and i am eating apple but i see elephant and ant'\n",
    "\n",
    "list = re.findall(\"[ae]\\w+\",text)\n",
    "print(list)"
   ]
  },
  {
   "cell_type": "code",
   "execution_count": 11,
   "id": "daa9aefd",
   "metadata": {},
   "outputs": [
    {
     "name": "stdout",
     "output_type": "stream",
     "text": [
      "<class 're.Pattern'>\n",
      "['3432', '3453', 'raju']\n"
     ]
    }
   ],
   "source": [
    "## 3\n",
    "import re\n",
    "\n",
    "str1 = 'Bhimrao Ramji Ambedkar was an Indian jurist, economist,social reformer and political leader, 3432 3453 raju ramu'\n",
    "pattern = r\"\\b\\w{4}\\b\"\n",
    "regex_pattern = re.compile(pattern)\n",
    "print(type(regex_pattern))\n",
    "\n",
    "result = regex_pattern.findall(str1)\n",
    "print(result)"
   ]
  },
  {
   "cell_type": "code",
   "execution_count": 122,
   "id": "8caaa8b3",
   "metadata": {},
   "outputs": [
    {
     "name": "stdout",
     "output_type": "stream",
     "text": [
      "<class 're.Pattern'>\n",
      "['Ramji', 'was', 'and', '3432', '3453', 'raju', 'ramu', 'adil']\n"
     ]
    }
   ],
   "source": [
    "## 4 \n",
    "import re\n",
    "str1 = 'Bhimrao Ramji Ambedkar was an Indian jurist, economist,social reformer and political leader. 3432 3453 raju ramu adil'\n",
    "pattern = r\"\\b\\w{3,5}\\b\"\n",
    "regex_pattern = re.compile(pattern)\n",
    "print(type(regex_pattern))\n",
    "\n",
    "result = regex_pattern.findall(str1)\n",
    "print(result)\n"
   ]
  },
  {
   "cell_type": "code",
   "execution_count": 43,
   "id": "c236cad8",
   "metadata": {},
   "outputs": [
    {
     "name": "stdout",
     "output_type": "stream",
     "text": [
      "riyaz ahmed\n",
      "google .com\n",
      "data train\n",
      "Dr.APJ abdul kalam\n",
      "github .com\n"
     ]
    }
   ],
   "source": [
    "## 5\n",
    "import re\n",
    "def remove_parentheses(strings_list):\n",
    "    pattern = re.compile(r'\\(|\\)')\n",
    "    result = [pattern.sub('', s)for s in strings_list]\n",
    "    return result\n",
    "input_strings = [\"riyaz (ahmed)\", \"google (.com)\", \"data (train)\", \"Dr.APJ (abdul kalam)\", \"github (.com)\"]\n",
    "\n",
    "output_strings = remove_parentheses(input_strings)\n",
    "for output in output_strings:\n",
    "    print(output)"
   ]
  },
  {
   "cell_type": "code",
   "execution_count": 16,
   "id": "9fbe61be",
   "metadata": {
    "scrolled": true
   },
   "outputs": [
    {
     "name": "stdout",
     "output_type": "stream",
     "text": [
      "[' [\"example\"', '\"hr@fliprobo\"', '\"github\"', '\"Hello\"', '\"Data\"']\n"
     ]
    }
   ],
   "source": [
    "## 6 \n",
    "import re\n",
    "with open(\"desktop/sample_text.txt\") as file:\n",
    "    text = file.read()\n",
    "    \n",
    "pattern = r'\\s*\\([^)]+\\)'\n",
    "\n",
    "cleaned = re.sub(pattern, '', text)\n",
    "list = cleaned.strip('[]').split(', ')\n",
    "\n",
    "print(list)\n"
   ]
  },
  {
   "cell_type": "code",
   "execution_count": 88,
   "id": "7caf9456",
   "metadata": {},
   "outputs": [
    {
     "name": "stdout",
     "output_type": "stream",
     "text": [
      "['Bhimrao', 'Ramji', 'Ambedkar', 'Was', 'An', 'Indian', 'Jurist']\n"
     ]
    }
   ],
   "source": [
    "## 7\n",
    "import re\n",
    "\n",
    "text = \"BhimraoRamjiAmbedkarWasAnIndianJurist\"\n",
    "pattern = r'[A-Z][a-z]+'\n",
    "uppercase = re.findall(pattern, text)\n",
    "print(uppercase)"
   ]
  },
  {
   "cell_type": "code",
   "execution_count": 112,
   "id": "4021a388",
   "metadata": {},
   "outputs": [
    {
     "name": "stdout",
     "output_type": "stream",
     "text": [
      "Bhimrao1 Ramji3 AmbedkarWasAnIndian3 Jurist\n"
     ]
    }
   ],
   "source": [
    "## 8\n",
    "import re\n",
    "\n",
    "text = \"Bhimrao1Ramji3AmbedkarWasAnIndian3Jurist\"\n",
    "pattern = r'(?<=\\d)(?=[A-Z])'\n",
    "\n",
    "result = re.sub(pattern, ' ', text)\n",
    "print(result)"
   ]
  },
  {
   "cell_type": "code",
   "execution_count": 117,
   "id": "ceb02e62",
   "metadata": {},
   "outputs": [
    {
     "name": "stdout",
     "output_type": "stream",
     "text": [
      "Bhimrao 1 Ramji 3 Ambedkar Was An Indian 3 Jurist\n"
     ]
    }
   ],
   "source": [
    "## 9 \n",
    "import re\n",
    "\n",
    "text = \"Bhimrao1Ramji3AmbedkarWasAnIndian3Jurist\"\n",
    "pattern = r'(?<=[a-z])(?=[A-Z0-9])|(?<=[0-9])(?=[A-Za-z])'\n",
    "\n",
    "result = re.sub(pattern, ' ', text)\n",
    "print(result)"
   ]
  },
  {
   "cell_type": "code",
   "execution_count": 119,
   "id": "354baa46",
   "metadata": {},
   "outputs": [
    {
     "name": "stdout",
     "output_type": "stream",
     "text": [
      "['riyazahmed.9953@gmail.com', 'riyaz.83839@gmail.com', 'hr@riyaz.com']\n"
     ]
    }
   ],
   "source": [
    "## 10 \n",
    "import re\n",
    "\n",
    "text = \"Hello my name is riyaz ahmed and my email address is riyazahmed.9953@gmail.com and alternate email adddress is riyaz.83839@gmail.com. please contact us at hr@riyaz.com for further information.\"\n",
    "eamil_pattern = r'\\b[A-Za-z0-9._%+-]+@[A-Za-z0-9.-]+\\.[A-Z|a-z]{2,7}\\b'\n",
    "emails = re.findall(email_pattern, text)\n",
    " \n",
    "print(emails)"
   ]
  },
  {
   "cell_type": "code",
   "execution_count": 21,
   "id": "748a3f3b",
   "metadata": {},
   "outputs": [
    {
     "name": "stdout",
     "output_type": "stream",
     "text": [
      "found a match!\n"
     ]
    }
   ],
   "source": [
    "##  11\n",
    "import re \n",
    "\n",
    "text = \"Hello_Datatrained_123\"\n",
    "def text_match(text):\n",
    "    pattern = '^[a-zA-Z0-9_]+$'\n",
    "    if re.search(pattern, text):\n",
    "             return 'found a match!'\n",
    "    else:\n",
    "             return('not matched!')\n",
    "print(text_match(text))\n",
    "    "
   ]
  },
  {
   "cell_type": "code",
   "execution_count": 4,
   "id": "da031433",
   "metadata": {},
   "outputs": [
    {
     "name": "stdout",
     "output_type": "stream",
     "text": [
      "True\n"
     ]
    }
   ],
   "source": [
    "## 12\n",
    "import re\n",
    "\n",
    "text = \"123datascientist\"\n",
    "pattern = r'^123'\n",
    "start_with_num = bool(re.match(pattern, text))\n",
    "print(start_with_num )"
   ]
  },
  {
   "cell_type": "code",
   "execution_count": 8,
   "id": "08a9bc35",
   "metadata": {},
   "outputs": [
    {
     "name": "stdout",
     "output_type": "stream",
     "text": [
      "192.168.1.1\n"
     ]
    }
   ],
   "source": [
    "## 13\n",
    "import re\n",
    "\n",
    "ip_addresss = \"216.08.094.196\"\n",
    "pattern = r'\\b0+(\\d+)\\b'\n",
    "\n",
    "result= re.sub(pattern, r'\\1', ip_address)\n",
    "print(result)"
   ]
  },
  {
   "cell_type": "code",
   "execution_count": 10,
   "id": "f85e198a",
   "metadata": {},
   "outputs": [
    {
     "name": "stdout",
     "output_type": "stream",
     "text": [
      "['August 15th 1947']\n"
     ]
    }
   ],
   "source": [
    "## 14\n",
    "\n",
    "import re\n",
    "text = \"On August 15th 1947 that India was declared independent from British colonialism, and the reins of control were handed over to the leaders of the Country\"\n",
    "\n",
    "pattern = r'\\b(?:January|February|March|April|May|June|July|August|September|October|November|December)\\s\\d{1,2}(?:st|nd|rd|th)?\\s\\d{4}\\b'\n",
    "dates = re.findall(pattern,text)\n",
    "print(dates)"
   ]
  },
  {
   "cell_type": "code",
   "execution_count": 23,
   "id": "57c7f79d",
   "metadata": {},
   "outputs": [
    {
     "name": "stdout",
     "output_type": "stream",
     "text": [
      "'fox' found\n",
      "'dog' found\n",
      "'horse' found\n"
     ]
    }
   ],
   "source": [
    "## 15 \n",
    "\n",
    "import re\n",
    "text = 'the quick brown fox jumps over the lazy dog.'\n",
    "patterns = ['fox','dog','horse']\n",
    "for pattern in patterns:\n",
    "    if re.search(pattern,text):\n",
    "        print(f\"'{pattern}' found\")\n",
    "    else:\n",
    "        print(f\"'{pattern}' found\")\n",
    "    \n",
    "    "
   ]
  },
  {
   "cell_type": "code",
   "execution_count": 32,
   "id": "5ddeb268",
   "metadata": {},
   "outputs": [
    {
     "name": "stdout",
     "output_type": "stream",
     "text": [
      "found \"fox\" in \"the qiuck brown fox jumps over the lazy dog\" from 16 to 19 \n"
     ]
    }
   ],
   "source": [
    "## 16\n",
    "\n",
    "import re \n",
    "text = 'the qiuck brown fox jumps over the lazy dog'\n",
    "pattern = 'fox'\n",
    "match = re.search(pattern, text)\n",
    "s = match.start()\n",
    "e = match.end()\n",
    "print('found \"%s\" in \"%s\" from %d to %d ' %\\\n",
    "      (match.re.pattern, match.string, s, e))\n"
   ]
  },
  {
   "cell_type": "code",
   "execution_count": 33,
   "id": "afd2f6c4",
   "metadata": {},
   "outputs": [
    {
     "name": "stdout",
     "output_type": "stream",
     "text": [
      "['exercises', 'exercises', 'exercises']\n"
     ]
    }
   ],
   "source": [
    "## 17 \n",
    "import re \n",
    "\n",
    "text = 'python exercises, php exercises, C# exercises'\n",
    "pattern = r'exercises'\n",
    "result = re.findall(pattern, text)\n",
    "print(result)\n"
   ]
  },
  {
   "cell_type": "code",
   "execution_count": 34,
   "id": "39335464",
   "metadata": {},
   "outputs": [
    {
     "name": "stdout",
     "output_type": "stream",
     "text": [
      "found \"exercises\" at 7:16\n",
      "found \"exercises\" at 22:31\n",
      "found \"exercises\" at 36:45\n"
     ]
    }
   ],
   "source": [
    "## 18 \n",
    "import re\n",
    "\n",
    "text = 'python exercises, php exercises, C# exercises'\n",
    "pattern = 'exercises'\n",
    "\n",
    "for match in re.finditer(pattern, text):\n",
    "    s = match.start()\n",
    "    e = match.end()\n",
    "    print('found \"%s\" at %d:%d' %(text[s:e],s,e))\n",
    "\n",
    "\n"
   ]
  },
  {
   "cell_type": "code",
   "execution_count": 36,
   "id": "dae824e1",
   "metadata": {},
   "outputs": [
    {
     "name": "stdout",
     "output_type": "stream",
     "text": [
      "old date in YYYY-MM-DD format: 2023-08-22\n",
      "new date in DD-MM-YYYY format: 22-08-2023\n"
     ]
    }
   ],
   "source": [
    "## 19 \n",
    "import re\n",
    "\n",
    "def change_format(dt):\n",
    "    return re.sub (r'(\\d{4})-(\\d{1,2})-(\\d{1,2})','\\\\3-\\\\2-\\\\1', dt)\n",
    "dt1 = \"2023-08-22\"\n",
    "\n",
    "print(\"old date in YYYY-MM-DD format:\",dt1)\n",
    "print(\"new date in DD-MM-YYYY format:\", change_format(dt1))"
   ]
  },
  {
   "cell_type": "code",
   "execution_count": 38,
   "id": "42338205",
   "metadata": {},
   "outputs": [
    {
     "name": "stdout",
     "output_type": "stream",
     "text": [
      "['01.12', '145.8', '3.01', '27.25', '0.25']\n"
     ]
    }
   ],
   "source": [
    "## 20\n",
    "import re\n",
    "\n",
    "text = \"01.12 0132.123 2.31875 145.8 3.01 27.25 0.25\"\n",
    "pattern = re.compile(r'\\b\\d+\\.\\d{1,2}\\b')\n",
    "\n",
    "result = pattern.findall(text)\n",
    "print(result)"
   ]
  },
  {
   "cell_type": "code",
   "execution_count": 51,
   "id": "f8b1f7e5",
   "metadata": {},
   "outputs": [
    {
     "name": "stdout",
     "output_type": "stream",
     "text": [
      "numbers found: <re.Match object; span=(22, 27), match='45999'>\n",
      "positions of numbers: <re.Match object; span=(48, 49), match='3'>\n"
     ]
    }
   ],
   "source": [
    "## 21 \n",
    "import re\n",
    "\n",
    "text1 = \"my laptop price is Rs 45999 and the quantity is 3\"\n",
    "pattern = re.compile(r'\\b\\d+(\\.\\d+)?\\b')\n",
    "result = pattern.finditer(text1)\n",
    "numbers = []\n",
    "positions = []\n",
    "\n",
    "numbers.append(match.group())\n",
    "positions.append(match.start())\n",
    "\n",
    "numbers, positions = result\n",
    "\n",
    "print(\"numbers found:\", numbers)\n",
    "print(\"positions of numbers:\", positions)"
   ]
  },
  {
   "cell_type": "code",
   "execution_count": 55,
   "id": "388e7e7f",
   "metadata": {},
   "outputs": [
    {
     "name": "stdout",
     "output_type": "stream",
     "text": [
      "950\n"
     ]
    }
   ],
   "source": [
    "## 22\n",
    "import re\n",
    "\n",
    "text = 'my marks semester are: 947, 896, 926, 524, 734, 950, 642'\n",
    "pattern = re.compile(r'\\b\\d+\\b')\n",
    "matches = pattern.findall(text)\n",
    "\n",
    "largest_value = max(map(int,matches))\n",
    "print(largest_value)"
   ]
  },
  {
   "cell_type": "code",
   "execution_count": 59,
   "id": "eb89a038",
   "metadata": {},
   "outputs": [
    {
     "name": "stdout",
     "output_type": "stream",
     "text": [
      "My Name Is Riyaz Ahmed And IAm Study In Data Science\n"
     ]
    }
   ],
   "source": [
    "## 23 \n",
    "import re \n",
    "\n",
    "text = 'MyNameIsRiyazAhmedAndIAmStudyInDataScience'\n",
    "pattern = r'(?<=[a-z])(?=[A-Z])'\n",
    "result = re.sub(pattern, ' ',text)\n",
    "\n",
    "print(result)"
   ]
  },
  {
   "cell_type": "code",
   "execution_count": 64,
   "id": "2ad3ab17",
   "metadata": {},
   "outputs": [
    {
     "name": "stdout",
     "output_type": "stream",
     "text": [
      "['My', 'Me', 'Riyaz', 'Ahmed', 'Science']\n"
     ]
    }
   ],
   "source": [
    "## 24\n",
    "\n",
    "import re\n",
    "text = 'My naMe is Riyaz Ahmed and I am studY in DATA Science'\n",
    "pattern = r'[A-Z][a-z]+'\n",
    "result = re.findall(pattern,text)\n",
    "\n",
    "print(result)"
   ]
  },
  {
   "cell_type": "code",
   "execution_count": 89,
   "id": "18385877",
   "metadata": {},
   "outputs": [
    {
     "name": "stdout",
     "output_type": "stream",
     "text": [
      "hello riyaz\n"
     ]
    }
   ],
   "source": [
    "## 25\n",
    "import re\n",
    "text = \"hello hello riyaz riyaz\"\n",
    "pattern = r'\\b(\\w+)(\\s+\\1)+\\b'\n",
    "cleaned = re.sub(pattern, r'\\1', text)\n",
    "\n",
    "print(cleaned)"
   ]
  },
  {
   "cell_type": "code",
   "execution_count": 113,
   "id": "40d4153d",
   "metadata": {},
   "outputs": [
    {
     "name": "stdout",
     "output_type": "stream",
     "text": [
      "'riyaz223' matched.\n"
     ]
    }
   ],
   "source": [
    "## 26\n",
    "import re\n",
    "\n",
    "text = \"riyaz223\"\n",
    "pattern = r'^.*[a-zA-Z0-9]$'\n",
    "if re.match(pattern, text):\n",
    "    print(f\"'{text}' matched.\")\n",
    "else:\n",
    "    print(f\"'{text}' not matched.\")\n"
   ]
  },
  {
   "cell_type": "code",
   "execution_count": 116,
   "id": "6d13ba72",
   "metadata": {},
   "outputs": [
    {
     "name": "stdout",
     "output_type": "stream",
     "text": [
      "['#Doltiwal', '#xyzabc', '#Demonetization']\n"
     ]
    }
   ],
   "source": [
    "### 27\n",
    "import re\n",
    "\n",
    "text = \"\"\"RT @kapil_kausik: #Doltiwal I mean #xyzabc is \"hurt\" by #Demonetization as the same has rendered USELESS <ed><U+00A0><U+00BD><ed><U+00B1><U+0089> \"acquired funds\" No wo\"\"\"\n",
    "hashtags = re.findall(r'#\\w+',text)\n",
    "\n",
    "print(hashtags)\n",
    "\n"
   ]
  },
  {
   "cell_type": "code",
   "execution_count": 118,
   "id": "7e96b9c9",
   "metadata": {},
   "outputs": [
    {
     "name": "stdout",
     "output_type": "stream",
     "text": [
      "@Jags123456 Bharat band on 28??<ed><ed>Those who  are protesting #demonetization  are all different party leaders\n"
     ]
    }
   ],
   "source": [
    "## 28\n",
    "import re\n",
    "\n",
    "text = \"@Jags123456 Bharat band on 28??<ed><U+00A0><U+00BD><ed><U+00B8><U+0082>Those who  are protesting #demonetization  are all different party leaders\"\n",
    "pattern = r'<U\\+[A-Za-z0-9]+>'\n",
    "cleaned = re.sub(pattern, '',text)\n",
    "\n",
    "print(cleaned)\n"
   ]
  },
  {
   "cell_type": "code",
   "execution_count": 17,
   "id": "86c2287f",
   "metadata": {},
   "outputs": [
    {
     "name": "stdout",
     "output_type": "stream",
     "text": [
      "['12-09-1992', '15-12-1999']\n"
     ]
    }
   ],
   "source": [
    "## 29 \n",
    "\n",
    "import re \n",
    "with open(\"desktop/my_text.txt\")as file:\n",
    "    text = file.read()\n",
    "pattern = r'\\b\\d{2}-\\d{2}-\\d{4}\\b'\n",
    "date = re.findall(pattern, text)\n",
    "\n",
    "print(date)\n",
    "\n"
   ]
  },
  {
   "cell_type": "code",
   "execution_count": 121,
   "id": "fae560eb",
   "metadata": {},
   "outputs": [
    {
     "name": "stdout",
     "output_type": "stream",
     "text": [
      " following example creates  ArrayList  a capacity   elements. 4 elements   added   ArrayList   ArrayList  trimmed accordingly.\n"
     ]
    }
   ],
   "source": [
    "## 30\n",
    "import re \n",
    "\n",
    "text = \"The following example creates an ArrayList with a capacity of 50 elements. 4 elements are then added to the ArrayList and the ArrayList is trimmed accordingly.\"\n",
    "pattern = re.compile(r'\\b\\w{2,4}\\b')\n",
    "cleaned = pattern.sub('', text)\n",
    "print(cleaned)"
   ]
  }
 ],
 "metadata": {
  "kernelspec": {
   "display_name": "Python 3 (ipykernel)",
   "language": "python",
   "name": "python3"
  },
  "language_info": {
   "codemirror_mode": {
    "name": "ipython",
    "version": 3
   },
   "file_extension": ".py",
   "mimetype": "text/x-python",
   "name": "python",
   "nbconvert_exporter": "python",
   "pygments_lexer": "ipython3",
   "version": "3.9.13"
  }
 },
 "nbformat": 4,
 "nbformat_minor": 5
}
