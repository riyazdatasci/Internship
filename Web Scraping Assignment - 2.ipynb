{
 "cells": [
  {
   "cell_type": "markdown",
   "id": "afc36f27",
   "metadata": {},
   "source": [
    "# Install libraries"
   ]
  },
  {
   "cell_type": "code",
   "execution_count": 152,
   "id": "e55809a1",
   "metadata": {},
   "outputs": [
    {
     "name": "stdout",
     "output_type": "stream",
     "text": [
      "Requirement already satisfied: selenium in c:\\programdata\\anaconda3\\lib\\site-packages (4.12.0)\n",
      "Requirement already satisfied: certifi>=2021.10.8 in c:\\programdata\\anaconda3\\lib\\site-packages (from selenium) (2022.9.14)\n",
      "Requirement already satisfied: trio-websocket~=0.9 in c:\\programdata\\anaconda3\\lib\\site-packages (from selenium) (0.10.4)\n",
      "Requirement already satisfied: urllib3[socks]<3,>=1.26 in c:\\programdata\\anaconda3\\lib\\site-packages (from selenium) (1.26.11)\n",
      "Requirement already satisfied: trio~=0.17 in c:\\programdata\\anaconda3\\lib\\site-packages (from selenium) (0.22.2)\n",
      "Requirement already satisfied: sniffio in c:\\programdata\\anaconda3\\lib\\site-packages (from trio~=0.17->selenium) (1.2.0)\n",
      "Requirement already satisfied: idna in c:\\programdata\\anaconda3\\lib\\site-packages (from trio~=0.17->selenium) (3.3)\n",
      "Requirement already satisfied: sortedcontainers in c:\\programdata\\anaconda3\\lib\\site-packages (from trio~=0.17->selenium) (2.4.0)\n",
      "Requirement already satisfied: attrs>=20.1.0 in c:\\programdata\\anaconda3\\lib\\site-packages (from trio~=0.17->selenium) (21.4.0)\n",
      "Requirement already satisfied: outcome in c:\\programdata\\anaconda3\\lib\\site-packages (from trio~=0.17->selenium) (1.2.0)\n",
      "Requirement already satisfied: exceptiongroup>=1.0.0rc9 in c:\\programdata\\anaconda3\\lib\\site-packages (from trio~=0.17->selenium) (1.1.3)\n",
      "Requirement already satisfied: cffi>=1.14 in c:\\programdata\\anaconda3\\lib\\site-packages (from trio~=0.17->selenium) (1.15.1)\n",
      "Requirement already satisfied: wsproto>=0.14 in c:\\programdata\\anaconda3\\lib\\site-packages (from trio-websocket~=0.9->selenium) (1.2.0)\n",
      "Requirement already satisfied: PySocks!=1.5.7,<2.0,>=1.5.6 in c:\\programdata\\anaconda3\\lib\\site-packages (from urllib3[socks]<3,>=1.26->selenium) (1.7.1)\n",
      "Requirement already satisfied: pycparser in c:\\programdata\\anaconda3\\lib\\site-packages (from cffi>=1.14->trio~=0.17->selenium) (2.21)\n",
      "Requirement already satisfied: h11<1,>=0.9.0 in c:\\programdata\\anaconda3\\lib\\site-packages (from wsproto>=0.14->trio-websocket~=0.9->selenium) (0.14.0)\n"
     ]
    }
   ],
   "source": [
    "!pip install selenium"
   ]
  },
  {
   "cell_type": "code",
   "execution_count": 1,
   "id": "e51e2c3a",
   "metadata": {},
   "outputs": [],
   "source": [
    "import selenium \n",
    "import pandas as pd\n",
    "from selenium import webdriver\n",
    "import warnings\n",
    "warnings.filterwarnings('ignore')\n",
    "from selenium.webdriver.common.by import By  \n",
    "import time"
   ]
  },
  {
   "cell_type": "code",
   "execution_count": null,
   "id": "04a88e4b",
   "metadata": {},
   "outputs": [],
   "source": [
    " "
   ]
  },
  {
   "cell_type": "markdown",
   "id": "80ab38d0",
   "metadata": {},
   "source": [
    "# ANS. 1"
   ]
  },
  {
   "cell_type": "code",
   "execution_count": 2,
   "id": "9dad5dbb",
   "metadata": {},
   "outputs": [],
   "source": [
    "driver = webdriver.Chrome()"
   ]
  },
  {
   "cell_type": "code",
   "execution_count": 3,
   "id": "a0a5c07f",
   "metadata": {},
   "outputs": [],
   "source": [
    "driver.get(\"https://www.shine.com/\")"
   ]
  },
  {
   "cell_type": "code",
   "execution_count": 5,
   "id": "4b9d044a",
   "metadata": {
    "scrolled": true
   },
   "outputs": [],
   "source": [
    "designation = driver.find_element(By.CLASS_NAME,\"form-control\")\n",
    "designation.send_keys('Data Analyst')"
   ]
  },
  {
   "cell_type": "code",
   "execution_count": 6,
   "id": "3194f1ee",
   "metadata": {
    "scrolled": true
   },
   "outputs": [],
   "source": [
    "location =  driver.find_element(By.XPATH,\"/html/body/div[1]/div[4]/div/div[2]/div[2]/div/form/div/div[1]/ul/li[2]/div/input\")\n",
    "location.send_keys('Bangalore')"
   ]
  },
  {
   "cell_type": "code",
   "execution_count": 9,
   "id": "9ffee212",
   "metadata": {},
   "outputs": [],
   "source": [
    "search_button = driver.find_element(By.CLASS_NAME,\"searchForm_btnWrap_advance__VYBHN\")\n",
    "search_button.click()"
   ]
  },
  {
   "cell_type": "code",
   "execution_count": 10,
   "id": "882b9441",
   "metadata": {},
   "outputs": [],
   "source": [
    "job_title = []\n",
    "job_location = []\n",
    "company_name = []\n",
    "experience_required = []"
   ]
  },
  {
   "cell_type": "code",
   "execution_count": 11,
   "id": "904d7d1d",
   "metadata": {},
   "outputs": [],
   "source": [
    "title_tags = driver.find_elements(By.XPATH,'//h2[@itemprop=\"name\"]')\n",
    "for i in title_tags:\n",
    "    title = i.text\n",
    "    job_title.append(title)"
   ]
  },
  {
   "cell_type": "code",
   "execution_count": 12,
   "id": "2e881797",
   "metadata": {
    "scrolled": true
   },
   "outputs": [],
   "source": [
    "location_tags = driver.find_elements(By.XPATH,'//div[@class=\" jobCard_jobCard_lists_item__YxRkV jobCard_locationIcon__zrWt2\"]')\n",
    "for i in location_tags:\n",
    "    location = i.text\n",
    "    job_location.append(location)"
   ]
  },
  {
   "cell_type": "code",
   "execution_count": 13,
   "id": "1818e3bf",
   "metadata": {
    "scrolled": true
   },
   "outputs": [],
   "source": [
    "company_tags = driver.find_elements(By.XPATH,'//div[@class=\"jobCard_jobCard_cName__mYnow\"]')\n",
    "for i in company_tags:\n",
    "    company = i.text\n",
    "    company_name.append(company)"
   ]
  },
  {
   "cell_type": "code",
   "execution_count": 21,
   "id": "43c12592",
   "metadata": {
    "scrolled": true
   },
   "outputs": [],
   "source": [
    "experience_tags = driver.find_elements(By.XPATH,'//div[@class=\" jobCard_jobCard_lists_item__YxRkV jobCard_jobIcon__3FB1t\"]')\n",
    "for i in experience_tags:\n",
    "    experience_r = i.text\n",
    "    experience_required.append(experience_r)"
   ]
  },
  {
   "cell_type": "code",
   "execution_count": 28,
   "id": "933d4c04",
   "metadata": {},
   "outputs": [
    {
     "data": {
      "text/html": [
       "<div>\n",
       "<style scoped>\n",
       "    .dataframe tbody tr th:only-of-type {\n",
       "        vertical-align: middle;\n",
       "    }\n",
       "\n",
       "    .dataframe tbody tr th {\n",
       "        vertical-align: top;\n",
       "    }\n",
       "\n",
       "    .dataframe thead th {\n",
       "        text-align: right;\n",
       "    }\n",
       "</style>\n",
       "<table border=\"1\" class=\"dataframe\">\n",
       "  <thead>\n",
       "    <tr style=\"text-align: right;\">\n",
       "      <th></th>\n",
       "      <th>Title</th>\n",
       "      <th>Location</th>\n",
       "      <th>Company</th>\n",
       "      <th>Experience</th>\n",
       "    </tr>\n",
       "  </thead>\n",
       "  <tbody>\n",
       "    <tr>\n",
       "      <th>0</th>\n",
       "      <td>Technical Data Analyst</td>\n",
       "      <td>Bangalore\\n+9</td>\n",
       "      <td>krishna consultancy.. hiring for co...</td>\n",
       "      <td>4 to 9 Yrs</td>\n",
       "    </tr>\n",
       "    <tr>\n",
       "      <th>1</th>\n",
       "      <td>opening data analyst -Bangalore</td>\n",
       "      <td>Bangalore</td>\n",
       "      <td>provizor it services pvt. ltd.</td>\n",
       "      <td>2 to 5 Yrs</td>\n",
       "    </tr>\n",
       "    <tr>\n",
       "      <th>2</th>\n",
       "      <td>Data Entry Operator(data analyst work) REMOTE ...</td>\n",
       "      <td>Bangalore\\n+9</td>\n",
       "      <td>prime services..</td>\n",
       "      <td>0 to 1 Yr</td>\n",
       "    </tr>\n",
       "    <tr>\n",
       "      <th>3</th>\n",
       "      <td>Hiring For Data Analyst</td>\n",
       "      <td>Bangalore\\n+8</td>\n",
       "      <td>harjai computers private limited</td>\n",
       "      <td>2 to 5 Yrs</td>\n",
       "    </tr>\n",
       "    <tr>\n",
       "      <th>4</th>\n",
       "      <td>Senior Data Analyst</td>\n",
       "      <td>Bangalore\\n+8</td>\n",
       "      <td>harjai computers private limited</td>\n",
       "      <td>0 to 2 Yrs</td>\n",
       "    </tr>\n",
       "    <tr>\n",
       "      <th>5</th>\n",
       "      <td>Data Analyst</td>\n",
       "      <td>Bangalore</td>\n",
       "      <td>true caller</td>\n",
       "      <td>3 to 5 Yrs</td>\n",
       "    </tr>\n",
       "    <tr>\n",
       "      <th>6</th>\n",
       "      <td>Mobility Data Analyst - IN/MKR</td>\n",
       "      <td>Bangalore</td>\n",
       "      <td>bosch group</td>\n",
       "      <td>4 to 6 Yrs</td>\n",
       "    </tr>\n",
       "    <tr>\n",
       "      <th>7</th>\n",
       "      <td>Senior Data Analyst</td>\n",
       "      <td>Bangalore</td>\n",
       "      <td>true caller</td>\n",
       "      <td>5 to 7 Yrs</td>\n",
       "    </tr>\n",
       "    <tr>\n",
       "      <th>8</th>\n",
       "      <td>hiring for data entry analyst ( position data ...</td>\n",
       "      <td>Bangalore\\n+9</td>\n",
       "      <td>prime services..</td>\n",
       "      <td>0 to 1 Yr</td>\n",
       "    </tr>\n",
       "    <tr>\n",
       "      <th>9</th>\n",
       "      <td>hiring for data entry analyst ( position data ...</td>\n",
       "      <td>Bangalore\\n+9</td>\n",
       "      <td>realtech solutions</td>\n",
       "      <td>0 to 1 Yr</td>\n",
       "    </tr>\n",
       "  </tbody>\n",
       "</table>\n",
       "</div>"
      ],
      "text/plain": [
       "                                               Title       Location  \\\n",
       "0                             Technical Data Analyst  Bangalore\\n+9   \n",
       "1                    opening data analyst -Bangalore      Bangalore   \n",
       "2  Data Entry Operator(data analyst work) REMOTE ...  Bangalore\\n+9   \n",
       "3                            Hiring For Data Analyst  Bangalore\\n+8   \n",
       "4                                Senior Data Analyst  Bangalore\\n+8   \n",
       "5                                       Data Analyst      Bangalore   \n",
       "6                     Mobility Data Analyst - IN/MKR      Bangalore   \n",
       "7                                Senior Data Analyst      Bangalore   \n",
       "8  hiring for data entry analyst ( position data ...  Bangalore\\n+9   \n",
       "9  hiring for data entry analyst ( position data ...  Bangalore\\n+9   \n",
       "\n",
       "                                  Company  Experience  \n",
       "0  krishna consultancy.. hiring for co...  4 to 9 Yrs  \n",
       "1          provizor it services pvt. ltd.  2 to 5 Yrs  \n",
       "2                        prime services..   0 to 1 Yr  \n",
       "3        harjai computers private limited  2 to 5 Yrs  \n",
       "4        harjai computers private limited  0 to 2 Yrs  \n",
       "5                             true caller  3 to 5 Yrs  \n",
       "6                             bosch group  4 to 6 Yrs  \n",
       "7                             true caller  5 to 7 Yrs  \n",
       "8                        prime services..   0 to 1 Yr  \n",
       "9                      realtech solutions   0 to 1 Yr  "
      ]
     },
     "execution_count": 28,
     "metadata": {},
     "output_type": "execute_result"
    }
   ],
   "source": [
    "analyst=pd.DataFrame({})\n",
    "analyst['Title']=job_title[0:10]\n",
    "analyst['Location']=job_location[0:10]\n",
    "analyst['Company']=company_name[0:10]\n",
    "analyst['Experience']=experience_required[0:10]\n",
    "analyst"
   ]
  },
  {
   "cell_type": "code",
   "execution_count": null,
   "id": "af0076bc",
   "metadata": {},
   "outputs": [],
   "source": []
  },
  {
   "cell_type": "markdown",
   "id": "97ea3820",
   "metadata": {},
   "source": [
    "# ANS. 2"
   ]
  },
  {
   "cell_type": "code",
   "execution_count": 173,
   "id": "2fe979d5",
   "metadata": {},
   "outputs": [],
   "source": [
    "import selenium \n",
    "import pandas as pd\n",
    "from selenium import webdriver\n",
    "import warnings\n",
    "warnings.filterwarnings('ignore')\n",
    "from selenium.webdriver.common.by import By  \n",
    "import time"
   ]
  },
  {
   "cell_type": "code",
   "execution_count": 203,
   "id": "89132283",
   "metadata": {},
   "outputs": [],
   "source": [
    "driver = webdriver.Chrome()"
   ]
  },
  {
   "cell_type": "code",
   "execution_count": 204,
   "id": "5eafa0cb",
   "metadata": {},
   "outputs": [],
   "source": [
    "driver.get(\"https://www.shine.com/\")"
   ]
  },
  {
   "cell_type": "code",
   "execution_count": 205,
   "id": "69af0c22",
   "metadata": {},
   "outputs": [],
   "source": [
    "designation = driver.find_element(By.CLASS_NAME,\"form-control\")\n",
    "designation.send_keys('data scientist')"
   ]
  },
  {
   "cell_type": "code",
   "execution_count": 206,
   "id": "89d9f2cd",
   "metadata": {},
   "outputs": [],
   "source": [
    "location =  driver.find_element(By.XPATH,\"/html/body/div[1]/div[4]/div/div[2]/div[2]/div/form/div/div[1]/ul/li[2]/div/input\")\n",
    "location.send_keys('Bangalore')"
   ]
  },
  {
   "cell_type": "code",
   "execution_count": 207,
   "id": "b1da399c",
   "metadata": {},
   "outputs": [],
   "source": [
    "search_button = driver.find_element(By.CLASS_NAME,\"searchForm_btnWrap_advance__VYBHN\")\n",
    "search_button.click()"
   ]
  },
  {
   "cell_type": "code",
   "execution_count": 223,
   "id": "d41192ba",
   "metadata": {},
   "outputs": [],
   "source": [
    "job_title = []\n",
    "job_location = []\n",
    "company_name = []"
   ]
  },
  {
   "cell_type": "code",
   "execution_count": 224,
   "id": "8fb9dfa2",
   "metadata": {},
   "outputs": [],
   "source": [
    "title_tags = driver.find_elements(By.XPATH,'//h2[@itemprop=\"name\"]')[0:10]\n",
    "for i in title_tags:\n",
    "    title = i.text\n",
    "    job_title.append(title)"
   ]
  },
  {
   "cell_type": "code",
   "execution_count": 225,
   "id": "b780a2f8",
   "metadata": {},
   "outputs": [],
   "source": [
    "location_tags = driver.find_elements(By.XPATH,'//div[@class=\" jobCard_jobCard_lists_item__YxRkV jobCard_locationIcon__zrWt2\"]')\n",
    "for i in location_tags:\n",
    "    location = i.text\n",
    "    job_location.append(location)"
   ]
  },
  {
   "cell_type": "code",
   "execution_count": 226,
   "id": "ec00b8de",
   "metadata": {},
   "outputs": [],
   "source": [
    "company_tags = driver.find_elements(By.XPATH,'//div[@class=\"jobCard_jobCard_cName__mYnow\"]')\n",
    "for i in company_tags:\n",
    "    company = i.text\n",
    "    company_name.append(company)"
   ]
  },
  {
   "cell_type": "code",
   "execution_count": 30,
   "id": "e4ab8385",
   "metadata": {},
   "outputs": [
    {
     "data": {
      "text/html": [
       "<div>\n",
       "<style scoped>\n",
       "    .dataframe tbody tr th:only-of-type {\n",
       "        vertical-align: middle;\n",
       "    }\n",
       "\n",
       "    .dataframe tbody tr th {\n",
       "        vertical-align: top;\n",
       "    }\n",
       "\n",
       "    .dataframe thead th {\n",
       "        text-align: right;\n",
       "    }\n",
       "</style>\n",
       "<table border=\"1\" class=\"dataframe\">\n",
       "  <thead>\n",
       "    <tr style=\"text-align: right;\">\n",
       "      <th></th>\n",
       "      <th>Title</th>\n",
       "      <th>Location</th>\n",
       "      <th>Company</th>\n",
       "    </tr>\n",
       "  </thead>\n",
       "  <tbody>\n",
       "    <tr>\n",
       "      <th>0</th>\n",
       "      <td>Technical Data Analyst</td>\n",
       "      <td>Bangalore\\n+9</td>\n",
       "      <td>krishna consultancy.. hiring for co...</td>\n",
       "    </tr>\n",
       "    <tr>\n",
       "      <th>1</th>\n",
       "      <td>opening data analyst -Bangalore</td>\n",
       "      <td>Bangalore</td>\n",
       "      <td>provizor it services pvt. ltd.</td>\n",
       "    </tr>\n",
       "    <tr>\n",
       "      <th>2</th>\n",
       "      <td>Data Entry Operator(data analyst work) REMOTE ...</td>\n",
       "      <td>Bangalore\\n+9</td>\n",
       "      <td>prime services..</td>\n",
       "    </tr>\n",
       "    <tr>\n",
       "      <th>3</th>\n",
       "      <td>Hiring For Data Analyst</td>\n",
       "      <td>Bangalore\\n+8</td>\n",
       "      <td>harjai computers private limited</td>\n",
       "    </tr>\n",
       "    <tr>\n",
       "      <th>4</th>\n",
       "      <td>Senior Data Analyst</td>\n",
       "      <td>Bangalore\\n+8</td>\n",
       "      <td>harjai computers private limited</td>\n",
       "    </tr>\n",
       "    <tr>\n",
       "      <th>5</th>\n",
       "      <td>Data Analyst</td>\n",
       "      <td>Bangalore</td>\n",
       "      <td>true caller</td>\n",
       "    </tr>\n",
       "    <tr>\n",
       "      <th>6</th>\n",
       "      <td>Mobility Data Analyst - IN/MKR</td>\n",
       "      <td>Bangalore</td>\n",
       "      <td>bosch group</td>\n",
       "    </tr>\n",
       "    <tr>\n",
       "      <th>7</th>\n",
       "      <td>Senior Data Analyst</td>\n",
       "      <td>Bangalore</td>\n",
       "      <td>true caller</td>\n",
       "    </tr>\n",
       "    <tr>\n",
       "      <th>8</th>\n",
       "      <td>hiring for data entry analyst ( position data ...</td>\n",
       "      <td>Bangalore\\n+9</td>\n",
       "      <td>prime services..</td>\n",
       "    </tr>\n",
       "    <tr>\n",
       "      <th>9</th>\n",
       "      <td>hiring for data entry analyst ( position data ...</td>\n",
       "      <td>Bangalore\\n+9</td>\n",
       "      <td>realtech solutions</td>\n",
       "    </tr>\n",
       "  </tbody>\n",
       "</table>\n",
       "</div>"
      ],
      "text/plain": [
       "                                               Title       Location  \\\n",
       "0                             Technical Data Analyst  Bangalore\\n+9   \n",
       "1                    opening data analyst -Bangalore      Bangalore   \n",
       "2  Data Entry Operator(data analyst work) REMOTE ...  Bangalore\\n+9   \n",
       "3                            Hiring For Data Analyst  Bangalore\\n+8   \n",
       "4                                Senior Data Analyst  Bangalore\\n+8   \n",
       "5                                       Data Analyst      Bangalore   \n",
       "6                     Mobility Data Analyst - IN/MKR      Bangalore   \n",
       "7                                Senior Data Analyst      Bangalore   \n",
       "8  hiring for data entry analyst ( position data ...  Bangalore\\n+9   \n",
       "9  hiring for data entry analyst ( position data ...  Bangalore\\n+9   \n",
       "\n",
       "                                  Company  \n",
       "0  krishna consultancy.. hiring for co...  \n",
       "1          provizor it services pvt. ltd.  \n",
       "2                        prime services..  \n",
       "3        harjai computers private limited  \n",
       "4        harjai computers private limited  \n",
       "5                             true caller  \n",
       "6                             bosch group  \n",
       "7                             true caller  \n",
       "8                        prime services..  \n",
       "9                      realtech solutions  "
      ]
     },
     "execution_count": 30,
     "metadata": {},
     "output_type": "execute_result"
    }
   ],
   "source": [
    "data_sci=pd.DataFrame({})\n",
    "data_sci['Title']=job_title[0:10]\n",
    "data_sci['Location']=job_location[0:10]\n",
    "data_sci['Company']=company_name[0:10]\n",
    "data_sci"
   ]
  },
  {
   "cell_type": "markdown",
   "id": "d640fc1a",
   "metadata": {},
   "source": [
    "# ANS.3"
   ]
  },
  {
   "cell_type": "code",
   "execution_count": 249,
   "id": "19f16e4d",
   "metadata": {},
   "outputs": [],
   "source": [
    "import selenium \n",
    "import pandas as pd\n",
    "from selenium import webdriver\n",
    "import warnings\n",
    "warnings.filterwarnings('ignore')\n",
    "from selenium.webdriver.common.by import By  \n",
    "import time"
   ]
  },
  {
   "cell_type": "code",
   "execution_count": 290,
   "id": "fb8eead3",
   "metadata": {},
   "outputs": [],
   "source": [
    "driver = webdriver.Chrome()"
   ]
  },
  {
   "cell_type": "code",
   "execution_count": 291,
   "id": "7abf5441",
   "metadata": {},
   "outputs": [],
   "source": [
    "driver.get(\"https://www.shine.com/\")"
   ]
  },
  {
   "cell_type": "code",
   "execution_count": 292,
   "id": "1c1bc8d5",
   "metadata": {},
   "outputs": [],
   "source": [
    "designation = driver.find_element(By.CLASS_NAME,\"form-control\")\n",
    "designation.send_keys('data scientist')"
   ]
  },
  {
   "cell_type": "code",
   "execution_count": 295,
   "id": "efff945d",
   "metadata": {},
   "outputs": [],
   "source": [
    "search_button = driver.find_element(By.CLASS_NAME,\"searchForm_btnWrap_advance__VYBHN\")\n",
    "search_button.click()"
   ]
  },
  {
   "cell_type": "code",
   "execution_count": 306,
   "id": "616736a7",
   "metadata": {},
   "outputs": [],
   "source": [
    "loc_filter = driver.find_elements(By.XPATH,'//label[@for=\"filter_jFLoc_406\"]')"
   ]
  },
  {
   "cell_type": "code",
   "execution_count": 307,
   "id": "8b101fb0",
   "metadata": {},
   "outputs": [],
   "source": [
    "sal_filter = driver.find_elements(By.XPATH,'//label[@class=\"filter_filter_option_label__v_iAW\"]')"
   ]
  },
  {
   "cell_type": "code",
   "execution_count": 308,
   "id": "1f21d345",
   "metadata": {},
   "outputs": [],
   "source": [
    "job_title = []\n",
    "job_location = []\n",
    "company_name = []\n",
    "experience_required = []"
   ]
  },
  {
   "cell_type": "code",
   "execution_count": 309,
   "id": "567eb80b",
   "metadata": {},
   "outputs": [],
   "source": [
    "title_tags = driver.find_elements(By.XPATH,'//h2[@itemprop=\"name\"]')[0:10]\n",
    "for i in title_tags:\n",
    "    title = i.text\n",
    "    job_title.append(title)"
   ]
  },
  {
   "cell_type": "code",
   "execution_count": 310,
   "id": "1f39ebcd",
   "metadata": {},
   "outputs": [],
   "source": [
    "location_tags = driver.find_elements(By.XPATH,'//div[@class=\" jobCard_jobCard_lists_item__YxRkV jobCard_locationIcon__zrWt2\"]')\n",
    "for i in location_tags:\n",
    "    location = i.text\n",
    "    job_location.append(location)"
   ]
  },
  {
   "cell_type": "code",
   "execution_count": 311,
   "id": "d5ca2a83",
   "metadata": {},
   "outputs": [],
   "source": [
    "company_tags = driver.find_elements(By.XPATH,'//div[@class=\"jobCard_jobCard_cName__mYnow\"]')\n",
    "for i in company_tags:\n",
    "    company = i.text\n",
    "    company_name.append(company)"
   ]
  },
  {
   "cell_type": "code",
   "execution_count": 31,
   "id": "184a43ca",
   "metadata": {},
   "outputs": [],
   "source": [
    "experience_tags = driver.find_elements(By.XPATH,'//div[@class=\" jobCard_jobCard_lists_item__YxRkV jobCard_jobIcon__3FB1t\"]')\n",
    "for i in experience_tags:\n",
    "    experience_r = i.text\n",
    "    experience_required.append(experience_r)"
   ]
  },
  {
   "cell_type": "code",
   "execution_count": 34,
   "id": "70fa7cef",
   "metadata": {},
   "outputs": [
    {
     "data": {
      "text/html": [
       "<div>\n",
       "<style scoped>\n",
       "    .dataframe tbody tr th:only-of-type {\n",
       "        vertical-align: middle;\n",
       "    }\n",
       "\n",
       "    .dataframe tbody tr th {\n",
       "        vertical-align: top;\n",
       "    }\n",
       "\n",
       "    .dataframe thead th {\n",
       "        text-align: right;\n",
       "    }\n",
       "</style>\n",
       "<table border=\"1\" class=\"dataframe\">\n",
       "  <thead>\n",
       "    <tr style=\"text-align: right;\">\n",
       "      <th></th>\n",
       "      <th>Title</th>\n",
       "      <th>Location</th>\n",
       "      <th>Company</th>\n",
       "      <th>Experience required</th>\n",
       "    </tr>\n",
       "  </thead>\n",
       "  <tbody>\n",
       "    <tr>\n",
       "      <th>0</th>\n",
       "      <td>Technical Data Analyst</td>\n",
       "      <td>Bangalore\\n+9</td>\n",
       "      <td>krishna consultancy.. hiring for co...</td>\n",
       "      <td>4 to 9 Yrs</td>\n",
       "    </tr>\n",
       "    <tr>\n",
       "      <th>1</th>\n",
       "      <td>opening data analyst -Bangalore</td>\n",
       "      <td>Bangalore</td>\n",
       "      <td>provizor it services pvt. ltd.</td>\n",
       "      <td>2 to 5 Yrs</td>\n",
       "    </tr>\n",
       "    <tr>\n",
       "      <th>2</th>\n",
       "      <td>Data Entry Operator(data analyst work) REMOTE ...</td>\n",
       "      <td>Bangalore\\n+9</td>\n",
       "      <td>prime services..</td>\n",
       "      <td>0 to 1 Yr</td>\n",
       "    </tr>\n",
       "    <tr>\n",
       "      <th>3</th>\n",
       "      <td>Hiring For Data Analyst</td>\n",
       "      <td>Bangalore\\n+8</td>\n",
       "      <td>harjai computers private limited</td>\n",
       "      <td>2 to 5 Yrs</td>\n",
       "    </tr>\n",
       "    <tr>\n",
       "      <th>4</th>\n",
       "      <td>Senior Data Analyst</td>\n",
       "      <td>Bangalore\\n+8</td>\n",
       "      <td>harjai computers private limited</td>\n",
       "      <td>0 to 2 Yrs</td>\n",
       "    </tr>\n",
       "    <tr>\n",
       "      <th>5</th>\n",
       "      <td>Data Analyst</td>\n",
       "      <td>Bangalore</td>\n",
       "      <td>true caller</td>\n",
       "      <td>3 to 5 Yrs</td>\n",
       "    </tr>\n",
       "    <tr>\n",
       "      <th>6</th>\n",
       "      <td>Mobility Data Analyst - IN/MKR</td>\n",
       "      <td>Bangalore</td>\n",
       "      <td>bosch group</td>\n",
       "      <td>4 to 6 Yrs</td>\n",
       "    </tr>\n",
       "    <tr>\n",
       "      <th>7</th>\n",
       "      <td>Senior Data Analyst</td>\n",
       "      <td>Bangalore</td>\n",
       "      <td>true caller</td>\n",
       "      <td>5 to 7 Yrs</td>\n",
       "    </tr>\n",
       "    <tr>\n",
       "      <th>8</th>\n",
       "      <td>hiring for data entry analyst ( position data ...</td>\n",
       "      <td>Bangalore\\n+9</td>\n",
       "      <td>prime services..</td>\n",
       "      <td>0 to 1 Yr</td>\n",
       "    </tr>\n",
       "    <tr>\n",
       "      <th>9</th>\n",
       "      <td>hiring for data entry analyst ( position data ...</td>\n",
       "      <td>Bangalore\\n+9</td>\n",
       "      <td>realtech solutions</td>\n",
       "      <td>0 to 1 Yr</td>\n",
       "    </tr>\n",
       "  </tbody>\n",
       "</table>\n",
       "</div>"
      ],
      "text/plain": [
       "                                               Title       Location  \\\n",
       "0                             Technical Data Analyst  Bangalore\\n+9   \n",
       "1                    opening data analyst -Bangalore      Bangalore   \n",
       "2  Data Entry Operator(data analyst work) REMOTE ...  Bangalore\\n+9   \n",
       "3                            Hiring For Data Analyst  Bangalore\\n+8   \n",
       "4                                Senior Data Analyst  Bangalore\\n+8   \n",
       "5                                       Data Analyst      Bangalore   \n",
       "6                     Mobility Data Analyst - IN/MKR      Bangalore   \n",
       "7                                Senior Data Analyst      Bangalore   \n",
       "8  hiring for data entry analyst ( position data ...  Bangalore\\n+9   \n",
       "9  hiring for data entry analyst ( position data ...  Bangalore\\n+9   \n",
       "\n",
       "                                  Company Experience required  \n",
       "0  krishna consultancy.. hiring for co...          4 to 9 Yrs  \n",
       "1          provizor it services pvt. ltd.          2 to 5 Yrs  \n",
       "2                        prime services..           0 to 1 Yr  \n",
       "3        harjai computers private limited          2 to 5 Yrs  \n",
       "4        harjai computers private limited          0 to 2 Yrs  \n",
       "5                             true caller          3 to 5 Yrs  \n",
       "6                             bosch group          4 to 6 Yrs  \n",
       "7                             true caller          5 to 7 Yrs  \n",
       "8                        prime services..           0 to 1 Yr  \n",
       "9                      realtech solutions           0 to 1 Yr  "
      ]
     },
     "execution_count": 34,
     "metadata": {},
     "output_type": "execute_result"
    }
   ],
   "source": [
    "data_sci=pd.DataFrame({})\n",
    "data_sci['Title']=job_title[0:10]\n",
    "data_sci['Location']=job_location[0:10]\n",
    "data_sci['Company']=company_name[0:10]\n",
    "data_sci['Experience required'] =experience_required[0:10]\n",
    "data_sci"
   ]
  },
  {
   "cell_type": "code",
   "execution_count": null,
   "id": "4247f89b",
   "metadata": {},
   "outputs": [],
   "source": []
  },
  {
   "cell_type": "markdown",
   "id": "e1fd3665",
   "metadata": {},
   "source": [
    "# ANS. 4"
   ]
  },
  {
   "cell_type": "code",
   "execution_count": 376,
   "id": "87a314ff",
   "metadata": {},
   "outputs": [],
   "source": [
    "import selenium \n",
    "import pandas as pd\n",
    "from selenium import webdriver\n",
    "import warnings\n",
    "warnings.filterwarnings('ignore')\n",
    "from selenium.webdriver.common.by import By  \n",
    "import time"
   ]
  },
  {
   "cell_type": "code",
   "execution_count": 421,
   "id": "edbdf4ad",
   "metadata": {},
   "outputs": [],
   "source": [
    "driver = webdriver.Chrome()"
   ]
  },
  {
   "cell_type": "code",
   "execution_count": 422,
   "id": "57ccdd01",
   "metadata": {},
   "outputs": [],
   "source": [
    "driver.get(\"https://www.flipkart.com/\")"
   ]
  },
  {
   "cell_type": "code",
   "execution_count": 423,
   "id": "9bc59ce3",
   "metadata": {},
   "outputs": [],
   "source": [
    "search = driver.find_element(By.XPATH,\"//input[@type='text']\")\n",
    "search.send_keys('sunglasses')"
   ]
  },
  {
   "cell_type": "code",
   "execution_count": 424,
   "id": "1b388e97",
   "metadata": {},
   "outputs": [],
   "source": [
    "search_btn=driver.find_element(By.XPATH,'//button[@class=\"_2iLD__\"]').click()"
   ]
  },
  {
   "cell_type": "code",
   "execution_count": 425,
   "id": "791c7a95",
   "metadata": {},
   "outputs": [],
   "source": [
    "brand = []\n",
    "product_description = []\n",
    "price = []"
   ]
  },
  {
   "cell_type": "code",
   "execution_count": 463,
   "id": "95412dfc",
   "metadata": {},
   "outputs": [],
   "source": [
    "brand_tags=driver.find_elements(By.XPATH,'//div[@class=\"_2WkVRV\"]')\n",
    "for i in brand_tags:\n",
    "    brandName=i.text\n",
    "    brand.append(brandName)\n",
    "    brand[:100]"
   ]
  },
  {
   "cell_type": "code",
   "execution_count": 447,
   "id": "11bd5d00",
   "metadata": {},
   "outputs": [],
   "source": [
    "product_tags=driver.find_elements(By.XPATH,'//a[@class=\"IRpwTa\"]')\n",
    "for i in product_tags:\n",
    "    product=i.text\n",
    "    product_description.append(product)\n",
    "    product_description[:100]"
   ]
  },
  {
   "cell_type": "code",
   "execution_count": 448,
   "id": "7627f7ca",
   "metadata": {},
   "outputs": [],
   "source": [
    "price_tags=driver.find_elements(By.XPATH,'//div[@class=\"_30jeq3\"]')\n",
    "for k in price_tags:\n",
    "    price_t=k.text\n",
    "    price.append(price_t)\n",
    "    price[:100]"
   ]
  },
  {
   "cell_type": "code",
   "execution_count": 449,
   "id": "f08d1cc0",
   "metadata": {},
   "outputs": [
    {
     "data": {
      "text/plain": [
       "<bound method WebElement.click of <selenium.webdriver.remote.webelement.WebElement (session=\"121de3cceb72d120fa38f2b1fc281132\", element=\"9E4E4DD2DDBE01E9C8357597033275E3_element_275\")>>"
      ]
     },
     "execution_count": 449,
     "metadata": {},
     "output_type": "execute_result"
    }
   ],
   "source": [
    "next_page=driver.find_element(By.XPATH,'//a[@class=\"ge-49M\"]')\n",
    "next_page.click"
   ]
  },
  {
   "cell_type": "code",
   "execution_count": 466,
   "id": "fb73115f",
   "metadata": {},
   "outputs": [],
   "source": [
    "sun_gl=pd.DataFrame({})\n",
    "sun_gl['Brand_name']=brand[:100]\n",
    "sun_gl['P_price']=price[:100]\n",
    "sun_gl['Pr_desc']= product_description[:100]"
   ]
  },
  {
   "cell_type": "code",
   "execution_count": 467,
   "id": "ba716456",
   "metadata": {},
   "outputs": [
    {
     "data": {
      "text/html": [
       "<div>\n",
       "<style scoped>\n",
       "    .dataframe tbody tr th:only-of-type {\n",
       "        vertical-align: middle;\n",
       "    }\n",
       "\n",
       "    .dataframe tbody tr th {\n",
       "        vertical-align: top;\n",
       "    }\n",
       "\n",
       "    .dataframe thead th {\n",
       "        text-align: right;\n",
       "    }\n",
       "</style>\n",
       "<table border=\"1\" class=\"dataframe\">\n",
       "  <thead>\n",
       "    <tr style=\"text-align: right;\">\n",
       "      <th></th>\n",
       "      <th>Brand_name</th>\n",
       "      <th>P_price</th>\n",
       "      <th>Pr_desc</th>\n",
       "    </tr>\n",
       "  </thead>\n",
       "  <tbody>\n",
       "    <tr>\n",
       "      <th>0</th>\n",
       "      <td>VINCENT CHASE</td>\n",
       "      <td>₹549</td>\n",
       "      <td>UV Protection Wayfarer Sunglasses (59)</td>\n",
       "    </tr>\n",
       "    <tr>\n",
       "      <th>1</th>\n",
       "      <td>VINCENT CHASE</td>\n",
       "      <td>₹849</td>\n",
       "      <td>Polarized, UV Protection Round Sunglasses (50)</td>\n",
       "    </tr>\n",
       "    <tr>\n",
       "      <th>2</th>\n",
       "      <td>SRPM</td>\n",
       "      <td>₹149</td>\n",
       "      <td>UV Protection Wayfarer Sunglasses (50)</td>\n",
       "    </tr>\n",
       "    <tr>\n",
       "      <th>3</th>\n",
       "      <td>Elligator</td>\n",
       "      <td>₹156</td>\n",
       "      <td>UV Protection Aviator, Wayfarer Sunglasses (54)</td>\n",
       "    </tr>\n",
       "    <tr>\n",
       "      <th>4</th>\n",
       "      <td>Elligator</td>\n",
       "      <td>₹149</td>\n",
       "      <td>UV Protection Cat-eye, Retro Square, Oval, Rou...</td>\n",
       "    </tr>\n",
       "    <tr>\n",
       "      <th>...</th>\n",
       "      <td>...</td>\n",
       "      <td>...</td>\n",
       "      <td>...</td>\n",
       "    </tr>\n",
       "    <tr>\n",
       "      <th>95</th>\n",
       "      <td>Fastrack</td>\n",
       "      <td>₹549</td>\n",
       "      <td>UV Protection, Gradient Rectangular Sunglasses...</td>\n",
       "    </tr>\n",
       "    <tr>\n",
       "      <th>96</th>\n",
       "      <td>VINCENT CHASE</td>\n",
       "      <td>₹854</td>\n",
       "      <td>UV Protection Aviator Sunglasses (58)</td>\n",
       "    </tr>\n",
       "    <tr>\n",
       "      <th>97</th>\n",
       "      <td>ROYAL SON</td>\n",
       "      <td>₹379</td>\n",
       "      <td>UV Protection Round Sunglasses (53)</td>\n",
       "    </tr>\n",
       "    <tr>\n",
       "      <th>98</th>\n",
       "      <td>Natwar</td>\n",
       "      <td>₹617</td>\n",
       "      <td>UV Protection Retro Square Sunglasses (53)</td>\n",
       "    </tr>\n",
       "    <tr>\n",
       "      <th>99</th>\n",
       "      <td>Rich Club</td>\n",
       "      <td>₹488</td>\n",
       "      <td>UV Protection Round Sunglasses (Free Size)</td>\n",
       "    </tr>\n",
       "  </tbody>\n",
       "</table>\n",
       "<p>100 rows × 3 columns</p>\n",
       "</div>"
      ],
      "text/plain": [
       "       Brand_name P_price                                            Pr_desc\n",
       "0   VINCENT CHASE    ₹549             UV Protection Wayfarer Sunglasses (59)\n",
       "1   VINCENT CHASE    ₹849     Polarized, UV Protection Round Sunglasses (50)\n",
       "2            SRPM    ₹149             UV Protection Wayfarer Sunglasses (50)\n",
       "3       Elligator    ₹156    UV Protection Aviator, Wayfarer Sunglasses (54)\n",
       "4       Elligator    ₹149  UV Protection Cat-eye, Retro Square, Oval, Rou...\n",
       "..            ...     ...                                                ...\n",
       "95       Fastrack    ₹549  UV Protection, Gradient Rectangular Sunglasses...\n",
       "96  VINCENT CHASE    ₹854              UV Protection Aviator Sunglasses (58)\n",
       "97      ROYAL SON    ₹379                UV Protection Round Sunglasses (53)\n",
       "98         Natwar    ₹617         UV Protection Retro Square Sunglasses (53)\n",
       "99      Rich Club    ₹488         UV Protection Round Sunglasses (Free Size)\n",
       "\n",
       "[100 rows x 3 columns]"
      ]
     },
     "execution_count": 467,
     "metadata": {},
     "output_type": "execute_result"
    }
   ],
   "source": [
    "sun_gl"
   ]
  },
  {
   "cell_type": "markdown",
   "id": "7bdf6448",
   "metadata": {},
   "source": [
    "# ANS. 5"
   ]
  },
  {
   "cell_type": "code",
   "execution_count": 35,
   "id": "7ff711fe",
   "metadata": {},
   "outputs": [],
   "source": [
    "import selenium \n",
    "import pandas as pd\n",
    "from selenium import webdriver\n",
    "import warnings\n",
    "warnings.filterwarnings('ignore')\n",
    "from selenium.webdriver.common.by import By  \n",
    "import time"
   ]
  },
  {
   "cell_type": "code",
   "execution_count": 36,
   "id": "1d5cd32b",
   "metadata": {},
   "outputs": [],
   "source": [
    "driver = webdriver.Chrome()"
   ]
  },
  {
   "cell_type": "code",
   "execution_count": 37,
   "id": "0e7465ec",
   "metadata": {},
   "outputs": [],
   "source": [
    "driver.get(\"https://www.flipkart.com/\")"
   ]
  },
  {
   "cell_type": "code",
   "execution_count": 38,
   "id": "9c615e57",
   "metadata": {},
   "outputs": [],
   "source": [
    "search = driver.find_element(By.XPATH,\"//input[@type='text']\")\n",
    "search.send_keys('iphone11')"
   ]
  },
  {
   "cell_type": "code",
   "execution_count": 39,
   "id": "15e0fcb6",
   "metadata": {},
   "outputs": [],
   "source": [
    "search_btn=driver.find_element(By.XPATH,'//button[@class=\"_2iLD__\"]').click()"
   ]
  },
  {
   "cell_type": "code",
   "execution_count": 40,
   "id": "0bd8a306",
   "metadata": {},
   "outputs": [],
   "source": [
    "driver.find_element(By.XPATH,'//div[@class=\"_4rR01T\"]').click()"
   ]
  },
  {
   "cell_type": "code",
   "execution_count": 41,
   "id": "f831cba7",
   "metadata": {},
   "outputs": [],
   "source": [
    "rating = []\n",
    "review_summary = []\n",
    "full_review = []"
   ]
  },
  {
   "cell_type": "code",
   "execution_count": 192,
   "id": "60b03bc4",
   "metadata": {},
   "outputs": [],
   "source": [
    "rating_tag=driver.find_elements(By.XPATH,'//div[@class=\"_3LWZlK _1BLPMq\"]')\n",
    "for i in rating_tag:\n",
    "    rating_all=i.text\n",
    "    rating.append(rating_all)\n",
    "    rating[:100]"
   ]
  },
  {
   "cell_type": "code",
   "execution_count": 43,
   "id": "9bbe5c9a",
   "metadata": {},
   "outputs": [],
   "source": [
    "summary_tag = driver.find_elements(By.XPATH,'//div[@class=\"t-ZTKy\"]')\n",
    "for i in summary_tag:\n",
    "    summary_r=i.text\n",
    "    review_summary.append(summary_r)\n",
    "    review_summary[:100]"
   ]
  },
  {
   "cell_type": "code",
   "execution_count": 44,
   "id": "c14a1d8b",
   "metadata": {},
   "outputs": [],
   "source": [
    "review_tag=driver.find_elements(By.XPATH,'//p[@class=\"_2-N8zT\"]')\n",
    "for i in review_tag:\n",
    "    review_f=i.text\n",
    "    full_review.append(review_f)\n",
    "    full_review[:100]"
   ]
  },
  {
   "cell_type": "code",
   "execution_count": 45,
   "id": "695dc283",
   "metadata": {
    "scrolled": true
   },
   "outputs": [],
   "source": [
    "next_page = driver.find_element(By.XPATH,'//a[@class=\"ge-49M _2Kfbh8\"]')\n",
    "next_page.click()"
   ]
  },
  {
   "cell_type": "code",
   "execution_count": 47,
   "id": "5486cbc6",
   "metadata": {},
   "outputs": [
    {
     "data": {
      "text/html": [
       "<div>\n",
       "<style scoped>\n",
       "    .dataframe tbody tr th:only-of-type {\n",
       "        vertical-align: middle;\n",
       "    }\n",
       "\n",
       "    .dataframe tbody tr th {\n",
       "        vertical-align: top;\n",
       "    }\n",
       "\n",
       "    .dataframe thead th {\n",
       "        text-align: right;\n",
       "    }\n",
       "</style>\n",
       "<table border=\"1\" class=\"dataframe\">\n",
       "  <thead>\n",
       "    <tr style=\"text-align: right;\">\n",
       "      <th></th>\n",
       "      <th>Rating</th>\n",
       "      <th>Summary</th>\n",
       "      <th>Full review</th>\n",
       "    </tr>\n",
       "  </thead>\n",
       "  <tbody>\n",
       "    <tr>\n",
       "      <th>0</th>\n",
       "      <td>5</td>\n",
       "      <td>I bought during the big billion sale. It’s wor...</td>\n",
       "      <td>Wonderful</td>\n",
       "    </tr>\n",
       "    <tr>\n",
       "      <th>1</th>\n",
       "      <td>5</td>\n",
       "      <td>Awesome product ❤️❤️\\nThank you Flipkart</td>\n",
       "      <td>Great product</td>\n",
       "    </tr>\n",
       "    <tr>\n",
       "      <th>2</th>\n",
       "      <td>5</td>\n",
       "      <td>Feeling awesome after getting the delivery of ...</td>\n",
       "      <td>Worth every penny</td>\n",
       "    </tr>\n",
       "    <tr>\n",
       "      <th>3</th>\n",
       "      <td>5</td>\n",
       "      <td>This is my first apple product and I really lo...</td>\n",
       "      <td>Brilliant</td>\n",
       "    </tr>\n",
       "    <tr>\n",
       "      <th>4</th>\n",
       "      <td>5</td>\n",
       "      <td>Battery - more or less 2 days\\nCamera - can no...</td>\n",
       "      <td>Highly recommended</td>\n",
       "    </tr>\n",
       "    <tr>\n",
       "      <th>5</th>\n",
       "      <td>5</td>\n",
       "      <td>Nice products thanks flkat</td>\n",
       "      <td>Perfect product!</td>\n",
       "    </tr>\n",
       "  </tbody>\n",
       "</table>\n",
       "</div>"
      ],
      "text/plain": [
       "  Rating                                            Summary  \\\n",
       "0      5  I bought during the big billion sale. It’s wor...   \n",
       "1      5           Awesome product ❤️❤️\\nThank you Flipkart   \n",
       "2      5  Feeling awesome after getting the delivery of ...   \n",
       "3      5  This is my first apple product and I really lo...   \n",
       "4      5  Battery - more or less 2 days\\nCamera - can no...   \n",
       "5      5                         Nice products thanks flkat   \n",
       "\n",
       "          Full review  \n",
       "0           Wonderful  \n",
       "1       Great product  \n",
       "2   Worth every penny  \n",
       "3           Brilliant  \n",
       "4  Highly recommended  \n",
       "5    Perfect product!  "
      ]
     },
     "execution_count": 47,
     "metadata": {},
     "output_type": "execute_result"
    }
   ],
   "source": [
    "review_all = pd.DataFrame({})\n",
    "review_all['Rating']=rating[:100]\n",
    "review_all['Summary']=review_summary[:100]\n",
    "review_all['Full review']= full_review[:100]\n",
    "review_all"
   ]
  },
  {
   "cell_type": "code",
   "execution_count": null,
   "id": "2e9cb832",
   "metadata": {},
   "outputs": [],
   "source": []
  },
  {
   "cell_type": "markdown",
   "id": "b6ec02b0",
   "metadata": {},
   "source": [
    "# ANS. 6"
   ]
  },
  {
   "cell_type": "code",
   "execution_count": 57,
   "id": "4d1f202b",
   "metadata": {},
   "outputs": [],
   "source": [
    "import selenium \n",
    "import pandas as pd\n",
    "from selenium import webdriver\n",
    "import warnings\n",
    "warnings.filterwarnings('ignore')\n",
    "from selenium.webdriver.common.by import By  \n",
    "import time"
   ]
  },
  {
   "cell_type": "code",
   "execution_count": 58,
   "id": "0ef3ff62",
   "metadata": {},
   "outputs": [],
   "source": [
    "driver = webdriver.Chrome()"
   ]
  },
  {
   "cell_type": "code",
   "execution_count": 59,
   "id": "843a7528",
   "metadata": {},
   "outputs": [],
   "source": [
    "driver.get(\"https://www.flipkart.com/\")"
   ]
  },
  {
   "cell_type": "code",
   "execution_count": 60,
   "id": "587ba27c",
   "metadata": {},
   "outputs": [],
   "source": [
    "search = driver.find_element(By.XPATH,\"//input[@type='text']\")\n",
    "search.send_keys('sneakers')"
   ]
  },
  {
   "cell_type": "code",
   "execution_count": 61,
   "id": "e5585e7a",
   "metadata": {},
   "outputs": [],
   "source": [
    "search_btn=driver.find_element(By.XPATH,'//button[@class=\"_2iLD__\"]').click()"
   ]
  },
  {
   "cell_type": "code",
   "execution_count": 62,
   "id": "dee97238",
   "metadata": {},
   "outputs": [],
   "source": [
    "brand = []\n",
    "product_description = []\n",
    "price = []"
   ]
  },
  {
   "cell_type": "code",
   "execution_count": 196,
   "id": "a7305025",
   "metadata": {},
   "outputs": [],
   "source": [
    "brand_tags=driver.find_elements(By.XPATH,'//div[@class=\"_2WkVRV\"]')\n",
    "for i in brand_tags:\n",
    "    brandName=i.text\n",
    "    brand.append(brandName)\n",
    "    brand[:100]"
   ]
  },
  {
   "cell_type": "code",
   "execution_count": 197,
   "id": "9ee3e651",
   "metadata": {},
   "outputs": [],
   "source": [
    "product_tags=driver.find_elements(By.XPATH,'//a[@class=\"IRpwTa\"]')\n",
    "for i in product_tags:\n",
    "    product=i.text\n",
    "    product_description.append(product)\n",
    "    product_description[:100]"
   ]
  },
  {
   "cell_type": "code",
   "execution_count": 198,
   "id": "7c58232d",
   "metadata": {},
   "outputs": [],
   "source": [
    "price_tags=driver.find_elements(By.XPATH,'//div[@class=\"_30jeq3\"]')\n",
    "for k in price_tags:\n",
    "    price_t=k.text\n",
    "    price.append(price_t)\n",
    "    price[:100]"
   ]
  },
  {
   "cell_type": "code",
   "execution_count": 88,
   "id": "5fc0ab84",
   "metadata": {},
   "outputs": [],
   "source": [
    "next_page=driver.find_element(By.XPATH,'//a[@class=\"ge-49M\"]')\n",
    "next_page.click()"
   ]
  },
  {
   "cell_type": "code",
   "execution_count": 89,
   "id": "ca07c975",
   "metadata": {},
   "outputs": [
    {
     "data": {
      "text/html": [
       "<div>\n",
       "<style scoped>\n",
       "    .dataframe tbody tr th:only-of-type {\n",
       "        vertical-align: middle;\n",
       "    }\n",
       "\n",
       "    .dataframe tbody tr th {\n",
       "        vertical-align: top;\n",
       "    }\n",
       "\n",
       "    .dataframe thead th {\n",
       "        text-align: right;\n",
       "    }\n",
       "</style>\n",
       "<table border=\"1\" class=\"dataframe\">\n",
       "  <thead>\n",
       "    <tr style=\"text-align: right;\">\n",
       "      <th></th>\n",
       "      <th>Brand_name</th>\n",
       "      <th>P_price</th>\n",
       "      <th>Pr_desc</th>\n",
       "    </tr>\n",
       "  </thead>\n",
       "  <tbody>\n",
       "    <tr>\n",
       "      <th>0</th>\n",
       "      <td>BIRDE</td>\n",
       "      <td>₹277</td>\n",
       "      <td>Comfortable Lightweight Regular Wear Walking C...</td>\n",
       "    </tr>\n",
       "    <tr>\n",
       "      <th>1</th>\n",
       "      <td>aadi</td>\n",
       "      <td>₹279</td>\n",
       "      <td>Synthetic Leather |Lightweight|Comfort|Summer|...</td>\n",
       "    </tr>\n",
       "    <tr>\n",
       "      <th>2</th>\n",
       "      <td>BRUTON</td>\n",
       "      <td>₹277</td>\n",
       "      <td>Modern Trendy Shoes Sneakers For Men</td>\n",
       "    </tr>\n",
       "    <tr>\n",
       "      <th>3</th>\n",
       "      <td>asian</td>\n",
       "      <td>₹822</td>\n",
       "      <td>Sneakers For Men</td>\n",
       "    </tr>\n",
       "    <tr>\n",
       "      <th>4</th>\n",
       "      <td>Deals4you</td>\n",
       "      <td>₹365</td>\n",
       "      <td>Sneakers For Women</td>\n",
       "    </tr>\n",
       "    <tr>\n",
       "      <th>5</th>\n",
       "      <td>Sparx</td>\n",
       "      <td>₹659</td>\n",
       "      <td>SM-671 Sneakers For Men</td>\n",
       "    </tr>\n",
       "    <tr>\n",
       "      <th>6</th>\n",
       "      <td>U.S. POLO ASSN.</td>\n",
       "      <td>₹1,558</td>\n",
       "      <td>CLARKIN Sneakers For Men</td>\n",
       "    </tr>\n",
       "    <tr>\n",
       "      <th>7</th>\n",
       "      <td>BIRDE</td>\n",
       "      <td>₹277</td>\n",
       "      <td>Comfortable Lightweight Regular Wear Walking C...</td>\n",
       "    </tr>\n",
       "    <tr>\n",
       "      <th>8</th>\n",
       "      <td>asian</td>\n",
       "      <td>₹622</td>\n",
       "      <td>Sneakers For Men</td>\n",
       "    </tr>\n",
       "    <tr>\n",
       "      <th>9</th>\n",
       "      <td>Sparx</td>\n",
       "      <td>₹679</td>\n",
       "      <td>Sneakers For Men</td>\n",
       "    </tr>\n",
       "    <tr>\n",
       "      <th>10</th>\n",
       "      <td>aadi</td>\n",
       "      <td>₹279</td>\n",
       "      <td>Lightweight,Comfort,Summer,Trendy,Walking,Outd...</td>\n",
       "    </tr>\n",
       "    <tr>\n",
       "      <th>11</th>\n",
       "      <td>aadi</td>\n",
       "      <td>₹279</td>\n",
       "      <td>Mesh |Lightweight|Comfort|Summer|Trendy|Walkin...</td>\n",
       "    </tr>\n",
       "    <tr>\n",
       "      <th>12</th>\n",
       "      <td>aadi</td>\n",
       "      <td>₹279</td>\n",
       "      <td>Synthetic Leather |Lightweight|Comfort|Summer|...</td>\n",
       "    </tr>\n",
       "    <tr>\n",
       "      <th>13</th>\n",
       "      <td>asian</td>\n",
       "      <td>₹622</td>\n",
       "      <td>Skypee-32 Grey Highneck Canvas,Loafers,Walking...</td>\n",
       "    </tr>\n",
       "    <tr>\n",
       "      <th>14</th>\n",
       "      <td>PUMA</td>\n",
       "      <td>₹3,330</td>\n",
       "      <td>X-Ray 2 Square Sneakers For Men</td>\n",
       "    </tr>\n",
       "    <tr>\n",
       "      <th>15</th>\n",
       "      <td>ATOM</td>\n",
       "      <td>₹1,285</td>\n",
       "      <td>Sneakers For Men</td>\n",
       "    </tr>\n",
       "    <tr>\n",
       "      <th>16</th>\n",
       "      <td>Airson</td>\n",
       "      <td>₹1,299</td>\n",
       "      <td>Junior Zero1 Sports shoes for Men | Gym Traini...</td>\n",
       "    </tr>\n",
       "    <tr>\n",
       "      <th>17</th>\n",
       "      <td>ATOM</td>\n",
       "      <td>₹1,285</td>\n",
       "      <td>Sneakers For Men</td>\n",
       "    </tr>\n",
       "    <tr>\n",
       "      <th>18</th>\n",
       "      <td>HOTSTYLE</td>\n",
       "      <td>₹296</td>\n",
       "      <td>Designer Sneakers For Men</td>\n",
       "    </tr>\n",
       "    <tr>\n",
       "      <th>19</th>\n",
       "      <td>kardam&amp;sons</td>\n",
       "      <td>₹394</td>\n",
       "      <td>kardam&amp;sons luxury fashionable Stylish Light W...</td>\n",
       "    </tr>\n",
       "    <tr>\n",
       "      <th>20</th>\n",
       "      <td>aadi</td>\n",
       "      <td>₹279</td>\n",
       "      <td>Mesh |Lightweight|Comfort|Summer|Trendy|Walkin...</td>\n",
       "    </tr>\n",
       "    <tr>\n",
       "      <th>21</th>\n",
       "      <td>aadi</td>\n",
       "      <td>₹279</td>\n",
       "      <td>Mesh |Lightweight|Comfort|Summer|Trendy|Walkin...</td>\n",
       "    </tr>\n",
       "    <tr>\n",
       "      <th>22</th>\n",
       "      <td>DUCATI</td>\n",
       "      <td>₹1,049</td>\n",
       "      <td>Sneakers For Men</td>\n",
       "    </tr>\n",
       "    <tr>\n",
       "      <th>23</th>\n",
       "      <td>WOODLAND</td>\n",
       "      <td>₹1,751</td>\n",
       "      <td>Sneakers For Men</td>\n",
       "    </tr>\n",
       "    <tr>\n",
       "      <th>24</th>\n",
       "      <td>asian</td>\n",
       "      <td>₹587</td>\n",
       "      <td>SM-162 Black Walking ,Training,Sneakers,Loafer...</td>\n",
       "    </tr>\n",
       "    <tr>\n",
       "      <th>25</th>\n",
       "      <td>HRX by Hrithik Roshan</td>\n",
       "      <td>₹1,368</td>\n",
       "      <td>Rerooted Classics Sneakers For Men</td>\n",
       "    </tr>\n",
       "    <tr>\n",
       "      <th>26</th>\n",
       "      <td>Layasa</td>\n",
       "      <td>₹429</td>\n",
       "      <td>Sneakers For Women</td>\n",
       "    </tr>\n",
       "    <tr>\n",
       "      <th>27</th>\n",
       "      <td>Footox</td>\n",
       "      <td>₹599</td>\n",
       "      <td>Casual Shoe Sneakers For Women</td>\n",
       "    </tr>\n",
       "    <tr>\n",
       "      <th>28</th>\n",
       "      <td>Sparx</td>\n",
       "      <td>₹839</td>\n",
       "      <td>SL-170 Sneakers For Women</td>\n",
       "    </tr>\n",
       "    <tr>\n",
       "      <th>29</th>\n",
       "      <td>Rowlans</td>\n",
       "      <td>₹518</td>\n",
       "      <td>comfortable,durable,sport shoe,snerakers,walki...</td>\n",
       "    </tr>\n",
       "    <tr>\n",
       "      <th>30</th>\n",
       "      <td>RapidBox</td>\n",
       "      <td>₹699</td>\n",
       "      <td>Sneakers For Men</td>\n",
       "    </tr>\n",
       "    <tr>\n",
       "      <th>31</th>\n",
       "      <td>asian</td>\n",
       "      <td>₹822</td>\n",
       "      <td>asian Thunder-01 White Color Change Sneakers,C...</td>\n",
       "    </tr>\n",
       "    <tr>\n",
       "      <th>32</th>\n",
       "      <td>asian</td>\n",
       "      <td>₹622</td>\n",
       "      <td>Tarzan-04 White Sneakers,Casuals,Loafers,Styli...</td>\n",
       "    </tr>\n",
       "    <tr>\n",
       "      <th>33</th>\n",
       "      <td>asian</td>\n",
       "      <td>₹764</td>\n",
       "      <td>Men's W-05 Casual White Sneaker Shoes With Wat...</td>\n",
       "    </tr>\n",
       "    <tr>\n",
       "      <th>34</th>\n",
       "      <td>RED TAPE</td>\n",
       "      <td>₹1,679</td>\n",
       "      <td>Lifestyle Shoes for Men | Comfortable &amp; Durabl...</td>\n",
       "    </tr>\n",
       "    <tr>\n",
       "      <th>35</th>\n",
       "      <td>kardam&amp;sons</td>\n",
       "      <td>₹341</td>\n",
       "      <td>Fashionable Canvas Casual Partywear Outdoor Sn...</td>\n",
       "    </tr>\n",
       "    <tr>\n",
       "      <th>36</th>\n",
       "      <td>PETER ENGLAND</td>\n",
       "      <td>₹1,264</td>\n",
       "      <td>Sneakers For Men</td>\n",
       "    </tr>\n",
       "    <tr>\n",
       "      <th>37</th>\n",
       "      <td>Layasa</td>\n",
       "      <td>₹699</td>\n",
       "      <td>Sneakers For Women</td>\n",
       "    </tr>\n",
       "    <tr>\n",
       "      <th>38</th>\n",
       "      <td>Labbin</td>\n",
       "      <td>₹587</td>\n",
       "      <td>Casual Sneakers ColourFul Block Shoes For Boys...</td>\n",
       "    </tr>\n",
       "    <tr>\n",
       "      <th>39</th>\n",
       "      <td>asian</td>\n",
       "      <td>₹1,175</td>\n",
       "      <td>Sneakers For Men</td>\n",
       "    </tr>\n",
       "  </tbody>\n",
       "</table>\n",
       "</div>"
      ],
      "text/plain": [
       "               Brand_name P_price  \\\n",
       "0                   BIRDE    ₹277   \n",
       "1                    aadi    ₹279   \n",
       "2                  BRUTON    ₹277   \n",
       "3                   asian    ₹822   \n",
       "4               Deals4you    ₹365   \n",
       "5                   Sparx    ₹659   \n",
       "6         U.S. POLO ASSN.  ₹1,558   \n",
       "7                   BIRDE    ₹277   \n",
       "8                   asian    ₹622   \n",
       "9                   Sparx    ₹679   \n",
       "10                   aadi    ₹279   \n",
       "11                   aadi    ₹279   \n",
       "12                   aadi    ₹279   \n",
       "13                  asian    ₹622   \n",
       "14                   PUMA  ₹3,330   \n",
       "15                   ATOM  ₹1,285   \n",
       "16                 Airson  ₹1,299   \n",
       "17                   ATOM  ₹1,285   \n",
       "18               HOTSTYLE    ₹296   \n",
       "19            kardam&sons    ₹394   \n",
       "20                   aadi    ₹279   \n",
       "21                   aadi    ₹279   \n",
       "22                 DUCATI  ₹1,049   \n",
       "23               WOODLAND  ₹1,751   \n",
       "24                  asian    ₹587   \n",
       "25  HRX by Hrithik Roshan  ₹1,368   \n",
       "26                 Layasa    ₹429   \n",
       "27                 Footox    ₹599   \n",
       "28                  Sparx    ₹839   \n",
       "29                Rowlans    ₹518   \n",
       "30               RapidBox    ₹699   \n",
       "31                  asian    ₹822   \n",
       "32                  asian    ₹622   \n",
       "33                  asian    ₹764   \n",
       "34               RED TAPE  ₹1,679   \n",
       "35            kardam&sons    ₹341   \n",
       "36          PETER ENGLAND  ₹1,264   \n",
       "37                 Layasa    ₹699   \n",
       "38                 Labbin    ₹587   \n",
       "39                  asian  ₹1,175   \n",
       "\n",
       "                                              Pr_desc  \n",
       "0   Comfortable Lightweight Regular Wear Walking C...  \n",
       "1   Synthetic Leather |Lightweight|Comfort|Summer|...  \n",
       "2                Modern Trendy Shoes Sneakers For Men  \n",
       "3                                    Sneakers For Men  \n",
       "4                                  Sneakers For Women  \n",
       "5                             SM-671 Sneakers For Men  \n",
       "6                            CLARKIN Sneakers For Men  \n",
       "7   Comfortable Lightweight Regular Wear Walking C...  \n",
       "8                                    Sneakers For Men  \n",
       "9                                    Sneakers For Men  \n",
       "10  Lightweight,Comfort,Summer,Trendy,Walking,Outd...  \n",
       "11  Mesh |Lightweight|Comfort|Summer|Trendy|Walkin...  \n",
       "12  Synthetic Leather |Lightweight|Comfort|Summer|...  \n",
       "13  Skypee-32 Grey Highneck Canvas,Loafers,Walking...  \n",
       "14                    X-Ray 2 Square Sneakers For Men  \n",
       "15                                   Sneakers For Men  \n",
       "16  Junior Zero1 Sports shoes for Men | Gym Traini...  \n",
       "17                                   Sneakers For Men  \n",
       "18                          Designer Sneakers For Men  \n",
       "19  kardam&sons luxury fashionable Stylish Light W...  \n",
       "20  Mesh |Lightweight|Comfort|Summer|Trendy|Walkin...  \n",
       "21  Mesh |Lightweight|Comfort|Summer|Trendy|Walkin...  \n",
       "22                                   Sneakers For Men  \n",
       "23                                   Sneakers For Men  \n",
       "24  SM-162 Black Walking ,Training,Sneakers,Loafer...  \n",
       "25                 Rerooted Classics Sneakers For Men  \n",
       "26                                 Sneakers For Women  \n",
       "27                     Casual Shoe Sneakers For Women  \n",
       "28                          SL-170 Sneakers For Women  \n",
       "29  comfortable,durable,sport shoe,snerakers,walki...  \n",
       "30                                   Sneakers For Men  \n",
       "31  asian Thunder-01 White Color Change Sneakers,C...  \n",
       "32  Tarzan-04 White Sneakers,Casuals,Loafers,Styli...  \n",
       "33  Men's W-05 Casual White Sneaker Shoes With Wat...  \n",
       "34  Lifestyle Shoes for Men | Comfortable & Durabl...  \n",
       "35  Fashionable Canvas Casual Partywear Outdoor Sn...  \n",
       "36                                   Sneakers For Men  \n",
       "37                                 Sneakers For Women  \n",
       "38  Casual Sneakers ColourFul Block Shoes For Boys...  \n",
       "39                                   Sneakers For Men  "
      ]
     },
     "execution_count": 89,
     "metadata": {},
     "output_type": "execute_result"
    }
   ],
   "source": [
    "sneakers = pd.DataFrame({})\n",
    "sneakers['Brand_name']=brand[:100]\n",
    "sneakers['P_price']=price[:100]\n",
    "sneakers['Pr_desc']= product_description[:100]\n",
    "sneakers"
   ]
  },
  {
   "cell_type": "code",
   "execution_count": null,
   "id": "b23f0d72",
   "metadata": {},
   "outputs": [],
   "source": []
  },
  {
   "cell_type": "markdown",
   "id": "18e31774",
   "metadata": {},
   "source": [
    "# ANS. 7"
   ]
  },
  {
   "cell_type": "code",
   "execution_count": 91,
   "id": "4e9f295c",
   "metadata": {},
   "outputs": [],
   "source": [
    "import selenium \n",
    "import pandas as pd\n",
    "from selenium import webdriver\n",
    "import warnings\n",
    "warnings.filterwarnings('ignore')\n",
    "from selenium.webdriver.common.by import By  \n",
    "import time"
   ]
  },
  {
   "cell_type": "code",
   "execution_count": 111,
   "id": "4754df74",
   "metadata": {},
   "outputs": [],
   "source": [
    "driver = webdriver.Chrome()"
   ]
  },
  {
   "cell_type": "code",
   "execution_count": 112,
   "id": "85466b23",
   "metadata": {},
   "outputs": [],
   "source": [
    "driver.get(\"https://www.amazon.in/\")"
   ]
  },
  {
   "cell_type": "code",
   "execution_count": 113,
   "id": "64d0f08f",
   "metadata": {},
   "outputs": [],
   "source": [
    "search = driver.find_element(By.XPATH,'//input[@id=\"twotabsearchtextbox\"]')\n",
    "search.send_keys('laptop')"
   ]
  },
  {
   "cell_type": "code",
   "execution_count": 114,
   "id": "aedcacf3",
   "metadata": {},
   "outputs": [],
   "source": [
    "search_btn = driver.find_element(By.XPATH,'//input[@id=\"nav-search-submit-button\"]')\n",
    "search_btn.click()"
   ]
  },
  {
   "cell_type": "code",
   "execution_count": 115,
   "id": "2b0930b2",
   "metadata": {},
   "outputs": [],
   "source": [
    "title = []\n",
    "ratings = []\n",
    "price = []"
   ]
  },
  {
   "cell_type": "code",
   "execution_count": 116,
   "id": "12f3c716",
   "metadata": {},
   "outputs": [],
   "source": [
    "title_tags = driver.find_elements(By.XPATH,'//h2[@class=\"a-size-mini a-spacing-none a-color-base s-line-clamp-2\"]')\n",
    "for i in title_tags:\n",
    "    titlename=i.text\n",
    "    title.append(titlename)\n",
    "    title[:10]"
   ]
  },
  {
   "cell_type": "code",
   "execution_count": 117,
   "id": "f9b23b42",
   "metadata": {},
   "outputs": [],
   "source": [
    "ratings_tags =driver.find_elements(By.XPATH,'//a[@class=\"a-popover-trigger a-declarative\"]')\n",
    "for i in ratings_tags:\n",
    "    rating_a=i.text\n",
    "    ratings.append(rating_a)\n",
    "    ratings[:10]"
   ]
  },
  {
   "cell_type": "code",
   "execution_count": 123,
   "id": "060c8381",
   "metadata": {},
   "outputs": [],
   "source": [
    "price_tags = driver.find_elements(By.XPATH,'//span[@class=\"a-price\"]')\n",
    "for i in price_tags:\n",
    "    price_a=i.text\n",
    "    price.append(price_a)\n",
    "    price[:10]"
   ]
  },
  {
   "cell_type": "code",
   "execution_count": 125,
   "id": "5825ed0a",
   "metadata": {},
   "outputs": [
    {
     "data": {
      "text/html": [
       "<div>\n",
       "<style scoped>\n",
       "    .dataframe tbody tr th:only-of-type {\n",
       "        vertical-align: middle;\n",
       "    }\n",
       "\n",
       "    .dataframe tbody tr th {\n",
       "        vertical-align: top;\n",
       "    }\n",
       "\n",
       "    .dataframe thead th {\n",
       "        text-align: right;\n",
       "    }\n",
       "</style>\n",
       "<table border=\"1\" class=\"dataframe\">\n",
       "  <thead>\n",
       "    <tr style=\"text-align: right;\">\n",
       "      <th></th>\n",
       "      <th>Title</th>\n",
       "      <th>Rating</th>\n",
       "      <th>Price</th>\n",
       "    </tr>\n",
       "  </thead>\n",
       "  <tbody>\n",
       "    <tr>\n",
       "      <th>0</th>\n",
       "      <td>HP Laptop 15s, AMD Ryzen 3 5300U, 15.6-inch (3...</td>\n",
       "      <td></td>\n",
       "      <td>37,990</td>\n",
       "    </tr>\n",
       "    <tr>\n",
       "      <th>1</th>\n",
       "      <td>HP Laptop 15s, AMD Ryzen 5 5500U, 15.6-inch (3...</td>\n",
       "      <td></td>\n",
       "      <td>41,490</td>\n",
       "    </tr>\n",
       "    <tr>\n",
       "      <th>2</th>\n",
       "      <td>Acer Aspire Lite 11th Gen Intel Core i3 Premiu...</td>\n",
       "      <td></td>\n",
       "      <td>31,990</td>\n",
       "    </tr>\n",
       "    <tr>\n",
       "      <th>3</th>\n",
       "      <td>HP Laptop 15s, 12th Gen Intel Core i3-1215U, 1...</td>\n",
       "      <td></td>\n",
       "      <td>40,927</td>\n",
       "    </tr>\n",
       "    <tr>\n",
       "      <th>4</th>\n",
       "      <td>HP Laptop 15s, Intel Celeron N4500, 15.6 inch(...</td>\n",
       "      <td></td>\n",
       "      <td>28,990</td>\n",
       "    </tr>\n",
       "    <tr>\n",
       "      <th>5</th>\n",
       "      <td>ASUS [SmartChoice] Vivobook 15, Intel Celeron ...</td>\n",
       "      <td></td>\n",
       "      <td>58,299</td>\n",
       "    </tr>\n",
       "    <tr>\n",
       "      <th>6</th>\n",
       "      <td>HP 15 Laptop, 11th Gen i3-1115G4 15.6 inch(39....</td>\n",
       "      <td></td>\n",
       "      <td>37,990</td>\n",
       "    </tr>\n",
       "    <tr>\n",
       "      <th>7</th>\n",
       "      <td>Acer Aspire Lite 11th Gen Intel Core i5-1155G7...</td>\n",
       "      <td></td>\n",
       "      <td>41,490</td>\n",
       "    </tr>\n",
       "    <tr>\n",
       "      <th>8</th>\n",
       "      <td>Chuwi HeroBook Pro 14.1'' Laptop, 8GB RAM 256G...</td>\n",
       "      <td></td>\n",
       "      <td></td>\n",
       "    </tr>\n",
       "    <tr>\n",
       "      <th>9</th>\n",
       "      <td>Lenovo V15 AMD Ryzen 5 5500U 15.6\" (39.62cm) F...</td>\n",
       "      <td></td>\n",
       "      <td></td>\n",
       "    </tr>\n",
       "  </tbody>\n",
       "</table>\n",
       "</div>"
      ],
      "text/plain": [
       "                                               Title Rating   Price\n",
       "0  HP Laptop 15s, AMD Ryzen 3 5300U, 15.6-inch (3...         37,990\n",
       "1  HP Laptop 15s, AMD Ryzen 5 5500U, 15.6-inch (3...         41,490\n",
       "2  Acer Aspire Lite 11th Gen Intel Core i3 Premiu...         31,990\n",
       "3  HP Laptop 15s, 12th Gen Intel Core i3-1215U, 1...         40,927\n",
       "4  HP Laptop 15s, Intel Celeron N4500, 15.6 inch(...         28,990\n",
       "5  ASUS [SmartChoice] Vivobook 15, Intel Celeron ...         58,299\n",
       "6  HP 15 Laptop, 11th Gen i3-1115G4 15.6 inch(39....         37,990\n",
       "7  Acer Aspire Lite 11th Gen Intel Core i5-1155G7...         41,490\n",
       "8  Chuwi HeroBook Pro 14.1'' Laptop, 8GB RAM 256G...               \n",
       "9  Lenovo V15 AMD Ryzen 5 5500U 15.6\" (39.62cm) F...               "
      ]
     },
     "execution_count": 125,
     "metadata": {},
     "output_type": "execute_result"
    }
   ],
   "source": [
    "laptop_df=pd.DataFrame({})\n",
    "laptop_df['Title']=title[0:10]\n",
    "laptop_df['Rating']=ratings[0:10]\n",
    "laptop_df['Price']=price[0:10]\n",
    "laptop_df"
   ]
  },
  {
   "cell_type": "markdown",
   "id": "98fd3c77",
   "metadata": {},
   "source": [
    "# ANS. 8"
   ]
  },
  {
   "cell_type": "code",
   "execution_count": 173,
   "id": "f8942da7",
   "metadata": {},
   "outputs": [],
   "source": [
    "import selenium \n",
    "import pandas as pd\n",
    "from selenium import webdriver\n",
    "import warnings\n",
    "warnings.filterwarnings('ignore')\n",
    "from selenium.webdriver.common.by import By  \n",
    "import time"
   ]
  },
  {
   "cell_type": "code",
   "execution_count": 154,
   "id": "4e6952b9",
   "metadata": {},
   "outputs": [],
   "source": [
    "driver = webdriver.Chrome()"
   ]
  },
  {
   "cell_type": "code",
   "execution_count": 155,
   "id": "6f3bbe72",
   "metadata": {},
   "outputs": [],
   "source": [
    "driver.get(\"https://www.azquotes.com/\")"
   ]
  },
  {
   "cell_type": "code",
   "execution_count": 158,
   "id": "a0de7f3e",
   "metadata": {},
   "outputs": [],
   "source": [
    "search_btn = driver.find_element(By.XPATH,\"/html/body/div[1]/div[1]/div[1]/div/div[3]/ul/li[5]/a\").click()"
   ]
  },
  {
   "cell_type": "code",
   "execution_count": 160,
   "id": "e0ec2344",
   "metadata": {},
   "outputs": [],
   "source": [
    "Quotes = []\n",
    "Authers = []\n",
    "type_of_Quotes = []"
   ]
  },
  {
   "cell_type": "code",
   "execution_count": 186,
   "id": "d427a815",
   "metadata": {},
   "outputs": [],
   "source": [
    "for i in range(0, 10):\n",
    "    Quotes_tags = driver.find_elements(By.XPATH,'//a[@class=\"title\"]')\n",
    "    for qt in Quotes_tags:\n",
    "        Quotes_n=qt.text\n",
    "        Quotes.append(Quotes_n)"
   ]
  },
  {
   "cell_type": "code",
   "execution_count": 188,
   "id": "24259e36",
   "metadata": {},
   "outputs": [],
   "source": [
    "for i in range(0, 10):\n",
    "    Authers_tags = driver.find_elements(By.XPATH,'//div[@class=\"author\"]')\n",
    "    for at in Authers_tags:\n",
    "        Authersname=at.text\n",
    "        Authers.append(Authersname)"
   ]
  },
  {
   "cell_type": "code",
   "execution_count": 189,
   "id": "8c9a4da1",
   "metadata": {},
   "outputs": [],
   "source": [
    "for i in range(0, 10):\n",
    "    type_of_Quo = driver.find_elements(By.XPATH,'//div[@class=\"tags\"]')\n",
    "    for i in type_of_Quo:\n",
    "        quotes_n =i.text\n",
    "        type_of_Quotes.append(quotes_n)"
   ]
  },
  {
   "cell_type": "code",
   "execution_count": 191,
   "id": "d66859da",
   "metadata": {},
   "outputs": [
    {
     "data": {
      "text/html": [
       "<div>\n",
       "<style scoped>\n",
       "    .dataframe tbody tr th:only-of-type {\n",
       "        vertical-align: middle;\n",
       "    }\n",
       "\n",
       "    .dataframe tbody tr th {\n",
       "        vertical-align: top;\n",
       "    }\n",
       "\n",
       "    .dataframe thead th {\n",
       "        text-align: right;\n",
       "    }\n",
       "</style>\n",
       "<table border=\"1\" class=\"dataframe\">\n",
       "  <thead>\n",
       "    <tr style=\"text-align: right;\">\n",
       "      <th></th>\n",
       "      <th>Quotes</th>\n",
       "      <th>Authers</th>\n",
       "      <th>Type of Quotes</th>\n",
       "    </tr>\n",
       "  </thead>\n",
       "  <tbody>\n",
       "    <tr>\n",
       "      <th>0</th>\n",
       "      <td>The essence of strategy is choosing what not t...</td>\n",
       "      <td>Michael Porter</td>\n",
       "      <td>Essence, Deep Thought, Transcendentalism</td>\n",
       "    </tr>\n",
       "    <tr>\n",
       "      <th>1</th>\n",
       "      <td>One cannot and must not try to erase the past ...</td>\n",
       "      <td>Golda Meir</td>\n",
       "      <td>Inspiration, Past, Trying</td>\n",
       "    </tr>\n",
       "    <tr>\n",
       "      <th>2</th>\n",
       "      <td>Patriotism means to stand by the country. It d...</td>\n",
       "      <td>Theodore Roosevelt</td>\n",
       "      <td>Country, Peace, War</td>\n",
       "    </tr>\n",
       "    <tr>\n",
       "      <th>3</th>\n",
       "      <td>Death is something inevitable. When a man has ...</td>\n",
       "      <td>Nelson Mandela</td>\n",
       "      <td>Inspirational, Motivational, Death</td>\n",
       "    </tr>\n",
       "    <tr>\n",
       "      <th>4</th>\n",
       "      <td>You have to love a nation that celebrates its ...</td>\n",
       "      <td>Erma Bombeck</td>\n",
       "      <td>4th Of July, Food, Patriotic</td>\n",
       "    </tr>\n",
       "    <tr>\n",
       "      <th>...</th>\n",
       "      <td>...</td>\n",
       "      <td>...</td>\n",
       "      <td>...</td>\n",
       "    </tr>\n",
       "    <tr>\n",
       "      <th>995</th>\n",
       "      <td>When the going gets weird, the weird turn pro.</td>\n",
       "      <td>Hunter S. Thompson</td>\n",
       "      <td>Music, Sports, Hunting</td>\n",
       "    </tr>\n",
       "    <tr>\n",
       "      <th>996</th>\n",
       "      <td>When a train goes through a tunnel and it gets...</td>\n",
       "      <td>Corrie Ten Boom</td>\n",
       "      <td>Trust, Encouraging, Uplifting</td>\n",
       "    </tr>\n",
       "    <tr>\n",
       "      <th>997</th>\n",
       "      <td>If you think you are too small to make a diffe...</td>\n",
       "      <td>Dalai Lama</td>\n",
       "      <td>Inspirational, Funny, Change</td>\n",
       "    </tr>\n",
       "    <tr>\n",
       "      <th>998</th>\n",
       "      <td>God doesn't require us to succeed, he only req...</td>\n",
       "      <td>Mother Teresa</td>\n",
       "      <td>Success, God, Mother</td>\n",
       "    </tr>\n",
       "    <tr>\n",
       "      <th>999</th>\n",
       "      <td>Change your thoughts and you change your world.</td>\n",
       "      <td>Norman Vincent Peale</td>\n",
       "      <td>Inspirational, Motivational, Change</td>\n",
       "    </tr>\n",
       "  </tbody>\n",
       "</table>\n",
       "<p>1000 rows × 3 columns</p>\n",
       "</div>"
      ],
      "text/plain": [
       "                                                Quotes               Authers  \\\n",
       "0    The essence of strategy is choosing what not t...        Michael Porter   \n",
       "1    One cannot and must not try to erase the past ...            Golda Meir   \n",
       "2    Patriotism means to stand by the country. It d...    Theodore Roosevelt   \n",
       "3    Death is something inevitable. When a man has ...        Nelson Mandela   \n",
       "4    You have to love a nation that celebrates its ...          Erma Bombeck   \n",
       "..                                                 ...                   ...   \n",
       "995     When the going gets weird, the weird turn pro.    Hunter S. Thompson   \n",
       "996  When a train goes through a tunnel and it gets...       Corrie Ten Boom   \n",
       "997  If you think you are too small to make a diffe...            Dalai Lama   \n",
       "998  God doesn't require us to succeed, he only req...         Mother Teresa   \n",
       "999    Change your thoughts and you change your world.  Norman Vincent Peale   \n",
       "\n",
       "                               Type of Quotes  \n",
       "0    Essence, Deep Thought, Transcendentalism  \n",
       "1                   Inspiration, Past, Trying  \n",
       "2                         Country, Peace, War  \n",
       "3          Inspirational, Motivational, Death  \n",
       "4                4th Of July, Food, Patriotic  \n",
       "..                                        ...  \n",
       "995                    Music, Sports, Hunting  \n",
       "996             Trust, Encouraging, Uplifting  \n",
       "997              Inspirational, Funny, Change  \n",
       "998                      Success, God, Mother  \n",
       "999       Inspirational, Motivational, Change  \n",
       "\n",
       "[1000 rows x 3 columns]"
      ]
     },
     "execution_count": 191,
     "metadata": {},
     "output_type": "execute_result"
    }
   ],
   "source": [
    "data=pd.DataFrame({})\n",
    "data['Quotes']=Quotes[0:1000]\n",
    "data['Authers']=Authers[0:1000]\n",
    "data['Type of Quotes']=type_of_Quotes[0:1000]\n",
    "data"
   ]
  },
  {
   "cell_type": "code",
   "execution_count": null,
   "id": "1dbce384",
   "metadata": {},
   "outputs": [],
   "source": []
  },
  {
   "cell_type": "markdown",
   "id": "b7bcba8f",
   "metadata": {},
   "source": [
    "# ANS. 9"
   ]
  },
  {
   "cell_type": "code",
   "execution_count": 67,
   "id": "9b67a343",
   "metadata": {},
   "outputs": [],
   "source": [
    "import selenium \n",
    "import pandas as pd\n",
    "from selenium import webdriver\n",
    "import warnings\n",
    "warnings.filterwarnings('ignore')\n",
    "from selenium.webdriver.common.by import By  \n",
    "import time"
   ]
  },
  {
   "cell_type": "code",
   "execution_count": 70,
   "id": "342f6928",
   "metadata": {},
   "outputs": [],
   "source": [
    "driver = webdriver.Chrome()"
   ]
  },
  {
   "cell_type": "code",
   "execution_count": 71,
   "id": "34204400",
   "metadata": {},
   "outputs": [],
   "source": [
    "driver.get(\"https://www.jagranjosh.com/\")"
   ]
  },
  {
   "cell_type": "code",
   "execution_count": 75,
   "id": "3165834c",
   "metadata": {},
   "outputs": [],
   "source": [
    "GK_btn=driver.find_element(By.XPATH,'//a[@href=\"https://www.jagranjosh.com/general-knowledge\"]').click()"
   ]
  },
  {
   "cell_type": "code",
   "execution_count": 76,
   "id": "0b7ae948",
   "metadata": {},
   "outputs": [],
   "source": [
    "list_btn=driver.find_element(By.XPATH,'//a[@href=\"https://www.jagranjosh.com/general-knowledge/list-of-all-prime-ministers-of-india-1473165149-1\"]').click()"
   ]
  },
  {
   "cell_type": "code",
   "execution_count": 78,
   "id": "93f23f4a",
   "metadata": {},
   "outputs": [],
   "source": [
    "Name = []\n",
    "Born_dead = []\n",
    "Term_of_office = []\n",
    "Remarks = []"
   ]
  },
  {
   "cell_type": "code",
   "execution_count": 84,
   "id": "e9c6ed49",
   "metadata": {},
   "outputs": [],
   "source": [
    "name_tags = driver.find_elements(By.XPATH,'//a[@href=\"https://www.jagranjosh.com/general-knowledge/jawaharlal-nehru-biography-1573652876-1\"]')\n",
    "for i in name_tags:\n",
    "    name_t = i.text\n",
    "    Name.append(name_t)"
   ]
  },
  {
   "cell_type": "code",
   "execution_count": 86,
   "id": "2d16a762",
   "metadata": {},
   "outputs": [],
   "source": [
    "born_tags = driver.find_elements(By.XPATH,'/html/body/div[1]/div[2]/div/div[2]/div/div[1]/div/div/div/div[4]/span/div[3]/table/tbody/tr[2]/td[3]')\n",
    "for i in born_tags:\n",
    "    born_t = i.text\n",
    "    Born_dead.append(born_t)"
   ]
  },
  {
   "cell_type": "code",
   "execution_count": 89,
   "id": "4a9cd88a",
   "metadata": {},
   "outputs": [],
   "source": [
    "office_tags = driver.find_elements(By.XPATH,'//td[@style=\"width: 256px; height: 121px;\"]')\n",
    "for i in office_tags:\n",
    "    office_t = i.text\n",
    "    Term_of_office.append(office_t)"
   ]
  },
  {
   "cell_type": "code",
   "execution_count": 91,
   "id": "92aacf55",
   "metadata": {},
   "outputs": [],
   "source": [
    "remarks_tags = driver.find_elements(By.XPATH,'//td[@style=\"width: 145px; height: 121px;\"]')\n",
    "for i in remarks_tags:\n",
    "    remark_m = i.text\n",
    "    Remarks.append(remark_m)"
   ]
  },
  {
   "cell_type": "code",
   "execution_count": 94,
   "id": "01fd1d40",
   "metadata": {},
   "outputs": [
    {
     "data": {
      "text/html": [
       "<div>\n",
       "<style scoped>\n",
       "    .dataframe tbody tr th:only-of-type {\n",
       "        vertical-align: middle;\n",
       "    }\n",
       "\n",
       "    .dataframe tbody tr th {\n",
       "        vertical-align: top;\n",
       "    }\n",
       "\n",
       "    .dataframe thead th {\n",
       "        text-align: right;\n",
       "    }\n",
       "</style>\n",
       "<table border=\"1\" class=\"dataframe\">\n",
       "  <thead>\n",
       "    <tr style=\"text-align: right;\">\n",
       "      <th></th>\n",
       "      <th>PM Name</th>\n",
       "      <th>Born dead</th>\n",
       "      <th>Term of office</th>\n",
       "      <th>Remarks</th>\n",
       "    </tr>\n",
       "  </thead>\n",
       "  <tbody>\n",
       "    <tr>\n",
       "      <th>0</th>\n",
       "      <td>Jawahar Lal Nehru</td>\n",
       "      <td>(1889–1964)</td>\n",
       "      <td>(1889–1964)</td>\n",
       "      <td>The first prime minister of India and the long...</td>\n",
       "    </tr>\n",
       "  </tbody>\n",
       "</table>\n",
       "</div>"
      ],
      "text/plain": [
       "             PM Name    Born dead Term of office  \\\n",
       "0  Jawahar Lal Nehru  (1889–1964)    (1889–1964)   \n",
       "\n",
       "                                             Remarks  \n",
       "0  The first prime minister of India and the long...  "
      ]
     },
     "execution_count": 94,
     "metadata": {},
     "output_type": "execute_result"
    }
   ],
   "source": [
    "df=pd.DataFrame({})\n",
    "df['PM Name']=Name[:1]\n",
    "df['Born dead']=Born_dead[:1]\n",
    "df['Term of office']=Term_of_office[:1]\n",
    "df['Remarks']= Remarks[:1]\n",
    "df"
   ]
  },
  {
   "cell_type": "code",
   "execution_count": null,
   "id": "69b0a46e",
   "metadata": {},
   "outputs": [],
   "source": []
  },
  {
   "cell_type": "markdown",
   "id": "4ddf9a81",
   "metadata": {},
   "source": [
    "# ANS. 10"
   ]
  },
  {
   "cell_type": "code",
   "execution_count": 95,
   "id": "47a68cd4",
   "metadata": {},
   "outputs": [],
   "source": [
    "import selenium \n",
    "import pandas as pd\n",
    "from selenium import webdriver\n",
    "import warnings\n",
    "warnings.filterwarnings('ignore')\n",
    "from selenium.webdriver.common.by import By  \n",
    "import time"
   ]
  },
  {
   "cell_type": "code",
   "execution_count": 126,
   "id": "1e369d81",
   "metadata": {},
   "outputs": [],
   "source": [
    "driver = webdriver.Chrome()"
   ]
  },
  {
   "cell_type": "code",
   "execution_count": 127,
   "id": "73210400",
   "metadata": {},
   "outputs": [],
   "source": [
    "driver.get(\"https://www.motor1.com/\")"
   ]
  },
  {
   "cell_type": "code",
   "execution_count": 128,
   "id": "91201ccb",
   "metadata": {},
   "outputs": [],
   "source": [
    "btn = driver.find_element(By.XPATH,'//div[@class=\"m1-search-panel\"]')\n",
    "btn.click()"
   ]
  },
  {
   "cell_type": "code",
   "execution_count": 137,
   "id": "ea22a905",
   "metadata": {},
   "outputs": [],
   "source": [
    "search = driver.find_element(By.XPATH,'//input[@class=\"m1-search-panel-input m1-search-form-text\"]')\n",
    "search.send_keys('50 most expensive cars')"
   ]
  },
  {
   "cell_type": "code",
   "execution_count": 139,
   "id": "f3ff7da7",
   "metadata": {},
   "outputs": [],
   "source": [
    "btn = driver.find_element(By.XPATH,'//button[@class=\"m1-search-panel-button m1-search-form-button-animate icon-search-svg\"]')\n",
    "btn.click()"
   ]
  },
  {
   "cell_type": "code",
   "execution_count": 140,
   "id": "0b5e5488",
   "metadata": {},
   "outputs": [],
   "source": [
    "link_btn = driver.find_element(By.XPATH,'//a[@href=\"/features/308149/most-expensive-new-cars-ever/\"]')\n",
    "link_btn.click()"
   ]
  },
  {
   "cell_type": "code",
   "execution_count": 141,
   "id": "6b01f030",
   "metadata": {},
   "outputs": [],
   "source": [
    "Car_name = []\n",
    "Price = []"
   ]
  },
  {
   "cell_type": "code",
   "execution_count": 142,
   "id": "f0fce228",
   "metadata": {},
   "outputs": [],
   "source": [
    "car_tags = driver.find_elements(By.XPATH,'//h3[@class=\"subheader\"]')\n",
    "for i in car_tags:\n",
    "    car_m = i.text\n",
    "    Car_name.append(car_m)"
   ]
  },
  {
   "cell_type": "code",
   "execution_count": 144,
   "id": "6eb3676a",
   "metadata": {},
   "outputs": [],
   "source": [
    "price_tags = driver.find_elements(By.XPATH,'/html/body/div[10]/div[7]/div[2]/div[1]/div[2]/div[2]/p[4]/strong')\n",
    "for i in price_tags:\n",
    "    price_r = i.text\n",
    "    Price.append(price_r)"
   ]
  },
  {
   "cell_type": "code",
   "execution_count": 145,
   "id": "8a044c42",
   "metadata": {},
   "outputs": [
    {
     "data": {
      "text/plain": [
       "['Price: $1.5 Million']"
      ]
     },
     "execution_count": 145,
     "metadata": {},
     "output_type": "execute_result"
    }
   ],
   "source": [
    "Price"
   ]
  },
  {
   "cell_type": "code",
   "execution_count": 147,
   "id": "ed270091",
   "metadata": {},
   "outputs": [
    {
     "data": {
      "text/html": [
       "<div>\n",
       "<style scoped>\n",
       "    .dataframe tbody tr th:only-of-type {\n",
       "        vertical-align: middle;\n",
       "    }\n",
       "\n",
       "    .dataframe tbody tr th {\n",
       "        vertical-align: top;\n",
       "    }\n",
       "\n",
       "    .dataframe thead th {\n",
       "        text-align: right;\n",
       "    }\n",
       "</style>\n",
       "<table border=\"1\" class=\"dataframe\">\n",
       "  <thead>\n",
       "    <tr style=\"text-align: right;\">\n",
       "      <th></th>\n",
       "      <th>Car name</th>\n",
       "    </tr>\n",
       "  </thead>\n",
       "  <tbody>\n",
       "    <tr>\n",
       "      <th>0</th>\n",
       "      <td>Aston Martin Valour</td>\n",
       "    </tr>\n",
       "    <tr>\n",
       "      <th>1</th>\n",
       "      <td>McLaren Elva</td>\n",
       "    </tr>\n",
       "    <tr>\n",
       "      <th>2</th>\n",
       "      <td>Czinger 21C</td>\n",
       "    </tr>\n",
       "    <tr>\n",
       "      <th>3</th>\n",
       "      <td>Ferrari Monza</td>\n",
       "    </tr>\n",
       "    <tr>\n",
       "      <th>4</th>\n",
       "      <td>Gordon Murray T.33</td>\n",
       "    </tr>\n",
       "    <tr>\n",
       "      <th>5</th>\n",
       "      <td>Koenigsegg Gemera</td>\n",
       "    </tr>\n",
       "    <tr>\n",
       "      <th>6</th>\n",
       "      <td>Zenvo TSR-S</td>\n",
       "    </tr>\n",
       "    <tr>\n",
       "      <th>7</th>\n",
       "      <td>Hennessey Venom F5</td>\n",
       "    </tr>\n",
       "    <tr>\n",
       "      <th>8</th>\n",
       "      <td>Bentley Bacalar</td>\n",
       "    </tr>\n",
       "    <tr>\n",
       "      <th>9</th>\n",
       "      <td>Hispano Suiza Carmen Boulogne</td>\n",
       "    </tr>\n",
       "    <tr>\n",
       "      <th>10</th>\n",
       "      <td>Bentley Mulliner Batur</td>\n",
       "    </tr>\n",
       "    <tr>\n",
       "      <th>11</th>\n",
       "      <td>Deus Vayanne</td>\n",
       "    </tr>\n",
       "    <tr>\n",
       "      <th>12</th>\n",
       "      <td>SSC Tuatara</td>\n",
       "    </tr>\n",
       "    <tr>\n",
       "      <th>13</th>\n",
       "      <td>Lotus Evija</td>\n",
       "    </tr>\n",
       "    <tr>\n",
       "      <th>14</th>\n",
       "      <td>Aston Martin Vulcan</td>\n",
       "    </tr>\n",
       "    <tr>\n",
       "      <th>15</th>\n",
       "      <td>Delage D12</td>\n",
       "    </tr>\n",
       "    <tr>\n",
       "      <th>16</th>\n",
       "      <td>Ferrari Daytona SP3</td>\n",
       "    </tr>\n",
       "    <tr>\n",
       "      <th>17</th>\n",
       "      <td>McLaren Speedtail</td>\n",
       "    </tr>\n",
       "    <tr>\n",
       "      <th>18</th>\n",
       "      <td>Rimac Nevera</td>\n",
       "    </tr>\n",
       "    <tr>\n",
       "      <th>19</th>\n",
       "      <td>Pagani Utopia</td>\n",
       "    </tr>\n",
       "    <tr>\n",
       "      <th>20</th>\n",
       "      <td>Pininfarina Battista</td>\n",
       "    </tr>\n",
       "    <tr>\n",
       "      <th>21</th>\n",
       "      <td>Gordon Murray T.50</td>\n",
       "    </tr>\n",
       "    <tr>\n",
       "      <th>22</th>\n",
       "      <td>Lamborghini Countach</td>\n",
       "    </tr>\n",
       "    <tr>\n",
       "      <th>23</th>\n",
       "      <td>Mercedes-AMG Project One</td>\n",
       "    </tr>\n",
       "    <tr>\n",
       "      <th>24</th>\n",
       "      <td>Zenvo Aurora</td>\n",
       "    </tr>\n",
       "    <tr>\n",
       "      <th>25</th>\n",
       "      <td>Aston Martin Victor</td>\n",
       "    </tr>\n",
       "    <tr>\n",
       "      <th>26</th>\n",
       "      <td>Hennessey Venom F5 Roadster</td>\n",
       "    </tr>\n",
       "    <tr>\n",
       "      <th>27</th>\n",
       "      <td>Koenigsegg Jesko</td>\n",
       "    </tr>\n",
       "    <tr>\n",
       "      <th>28</th>\n",
       "      <td>Aston Martin Valkyrie</td>\n",
       "    </tr>\n",
       "    <tr>\n",
       "      <th>29</th>\n",
       "      <td>W Motors Lykan Hypersport</td>\n",
       "    </tr>\n",
       "    <tr>\n",
       "      <th>30</th>\n",
       "      <td>McLaren Solus</td>\n",
       "    </tr>\n",
       "    <tr>\n",
       "      <th>31</th>\n",
       "      <td>Lamborghini Sian</td>\n",
       "    </tr>\n",
       "    <tr>\n",
       "      <th>32</th>\n",
       "      <td>Koenigsegg CC850</td>\n",
       "    </tr>\n",
       "    <tr>\n",
       "      <th>33</th>\n",
       "      <td>Bugatti Chiron Super Sport 300+</td>\n",
       "    </tr>\n",
       "    <tr>\n",
       "      <th>34</th>\n",
       "      <td>Lamborghini Veneno</td>\n",
       "    </tr>\n",
       "    <tr>\n",
       "      <th>35</th>\n",
       "      <td>Bugatti Bolide</td>\n",
       "    </tr>\n",
       "    <tr>\n",
       "      <th>36</th>\n",
       "      <td>Pininfarina B95 Speedster</td>\n",
       "    </tr>\n",
       "    <tr>\n",
       "      <th>37</th>\n",
       "      <td>Bugatti Mistral</td>\n",
       "    </tr>\n",
       "    <tr>\n",
       "      <th>38</th>\n",
       "      <td>Pagani Huayra Imola</td>\n",
       "    </tr>\n",
       "    <tr>\n",
       "      <th>39</th>\n",
       "      <td>Bugatti Divo</td>\n",
       "    </tr>\n",
       "    <tr>\n",
       "      <th>40</th>\n",
       "      <td>SP Automotive Chaos</td>\n",
       "    </tr>\n",
       "    <tr>\n",
       "      <th>41</th>\n",
       "      <td>Pagani Codalunga</td>\n",
       "    </tr>\n",
       "    <tr>\n",
       "      <th>42</th>\n",
       "      <td>777 Hypercar</td>\n",
       "    </tr>\n",
       "    <tr>\n",
       "      <th>43</th>\n",
       "      <td>Mercedes-Maybach Exelero</td>\n",
       "    </tr>\n",
       "    <tr>\n",
       "      <th>44</th>\n",
       "      <td>Bugatti Centodieci</td>\n",
       "    </tr>\n",
       "    <tr>\n",
       "      <th>45</th>\n",
       "      <td>Bugatti Chiron Profilée</td>\n",
       "    </tr>\n",
       "    <tr>\n",
       "      <th>46</th>\n",
       "      <td>Rolls-Royce Sweptail</td>\n",
       "    </tr>\n",
       "    <tr>\n",
       "      <th>47</th>\n",
       "      <td>Bugatti La Voiture Noire</td>\n",
       "    </tr>\n",
       "    <tr>\n",
       "      <th>48</th>\n",
       "      <td>Rolls-Royce Boat Tail*</td>\n",
       "    </tr>\n",
       "    <tr>\n",
       "      <th>49</th>\n",
       "      <td>Rolls-Royce La Rose Noire Droptail</td>\n",
       "    </tr>\n",
       "    <tr>\n",
       "      <th>50</th>\n",
       "      <td>Most Expensive Cars In The World</td>\n",
       "    </tr>\n",
       "  </tbody>\n",
       "</table>\n",
       "</div>"
      ],
      "text/plain": [
       "                              Car name\n",
       "0                  Aston Martin Valour\n",
       "1                         McLaren Elva\n",
       "2                          Czinger 21C\n",
       "3                        Ferrari Monza\n",
       "4                   Gordon Murray T.33\n",
       "5                    Koenigsegg Gemera\n",
       "6                          Zenvo TSR-S\n",
       "7                   Hennessey Venom F5\n",
       "8                      Bentley Bacalar\n",
       "9        Hispano Suiza Carmen Boulogne\n",
       "10              Bentley Mulliner Batur\n",
       "11                        Deus Vayanne\n",
       "12                         SSC Tuatara\n",
       "13                         Lotus Evija\n",
       "14                 Aston Martin Vulcan\n",
       "15                          Delage D12\n",
       "16                 Ferrari Daytona SP3\n",
       "17                   McLaren Speedtail\n",
       "18                        Rimac Nevera\n",
       "19                       Pagani Utopia\n",
       "20                Pininfarina Battista\n",
       "21                  Gordon Murray T.50\n",
       "22                Lamborghini Countach\n",
       "23            Mercedes-AMG Project One\n",
       "24                        Zenvo Aurora\n",
       "25                 Aston Martin Victor\n",
       "26         Hennessey Venom F5 Roadster\n",
       "27                    Koenigsegg Jesko\n",
       "28               Aston Martin Valkyrie\n",
       "29           W Motors Lykan Hypersport\n",
       "30                       McLaren Solus\n",
       "31                    Lamborghini Sian\n",
       "32                    Koenigsegg CC850\n",
       "33     Bugatti Chiron Super Sport 300+\n",
       "34                  Lamborghini Veneno\n",
       "35                      Bugatti Bolide\n",
       "36           Pininfarina B95 Speedster\n",
       "37                     Bugatti Mistral\n",
       "38                 Pagani Huayra Imola\n",
       "39                        Bugatti Divo\n",
       "40                 SP Automotive Chaos\n",
       "41                    Pagani Codalunga\n",
       "42                        777 Hypercar\n",
       "43            Mercedes-Maybach Exelero\n",
       "44                  Bugatti Centodieci\n",
       "45             Bugatti Chiron Profilée\n",
       "46                Rolls-Royce Sweptail\n",
       "47            Bugatti La Voiture Noire\n",
       "48              Rolls-Royce Boat Tail*\n",
       "49  Rolls-Royce La Rose Noire Droptail\n",
       "50    Most Expensive Cars In The World"
      ]
     },
     "execution_count": 147,
     "metadata": {},
     "output_type": "execute_result"
    }
   ],
   "source": [
    "df =pd.DataFrame({'Car name':Car_name})\n",
    "df"
   ]
  },
  {
   "cell_type": "code",
   "execution_count": 148,
   "id": "da8a529b",
   "metadata": {},
   "outputs": [
    {
     "data": {
      "text/plain": [
       "['Price: $1.5 Million']"
      ]
     },
     "execution_count": 148,
     "metadata": {},
     "output_type": "execute_result"
    }
   ],
   "source": [
    "Price"
   ]
  },
  {
   "cell_type": "code",
   "execution_count": null,
   "id": "eb1922df",
   "metadata": {},
   "outputs": [],
   "source": []
  }
 ],
 "metadata": {
  "kernelspec": {
   "display_name": "Python 3 (ipykernel)",
   "language": "python",
   "name": "python3"
  },
  "language_info": {
   "codemirror_mode": {
    "name": "ipython",
    "version": 3
   },
   "file_extension": ".py",
   "mimetype": "text/x-python",
   "name": "python",
   "nbconvert_exporter": "python",
   "pygments_lexer": "ipython3",
   "version": "3.9.13"
  }
 },
 "nbformat": 4,
 "nbformat_minor": 5
}
